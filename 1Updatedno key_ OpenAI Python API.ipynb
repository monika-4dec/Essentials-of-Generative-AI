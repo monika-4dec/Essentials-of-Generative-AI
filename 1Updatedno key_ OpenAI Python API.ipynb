{
 "cells": [
  {
   "cell_type": "markdown",
   "id": "1d2a49a0",
   "metadata": {},
   "source": [
    "# models in openai\n",
    "https://platform.openai.com/docs/models/overview"
   ]
  },
  {
   "cell_type": "markdown",
   "id": "77f2dfe2",
   "metadata": {},
   "source": [
    "https://platform.openai.com/account/api-keys"
   ]
  },
  {
   "cell_type": "code",
   "execution_count": 20,
   "id": "7395b31d",
   "metadata": {},
   "outputs": [],
   "source": [
    "!pip install -q openai"
   ]
  },
  {
   "cell_type": "code",
   "execution_count": 4,
   "id": "8bbffddc",
   "metadata": {},
   "outputs": [],
   "source": [
    "# importing openai module into your openai environment\n",
    "import openai\n",
    "\n",
    "# assigning API KEY to initialize openai environment\n",
    "openai.api_key = 'api key'\n"
   ]
  },
  {
   "cell_type": "markdown",
   "id": "781969b8",
   "metadata": {},
   "source": [
    "# Now you are all set to use OpenAI in your python environment. You can follow the below tutorials to try out OpenAI’s latest models.\n",
    "\n",
    "Table of Contents:\n",
    "\n",
    "1. Prompt Engineering\n",
    "2. Text\n",
    "3. Text Generation\n",
    "4. Text Completion\n",
    "5. Translation\n",
    "6. Summarization\n",
    "7. Retrieve factual information\n",
    "8. Text Conversion\n",
    "9. Chat\n",
    "10. Conversation & Chat Completion\n",
    "12. Image\n",
    "13. Image Generation\n",
    "14. Image Editing\n",
    "15. Audio\n",
    "16. Speech-to-text\n",
    "17. Python\n",
    "18. Fine-tuning\n",
    "19. API error codes\n",
    "20. Prompt Engineering\n",
    "\n",
    "\n",
    "Giving the AI brain a unique set of instructions to increase its intelligence and responsiveness is what AI prompt engineering entails. To comprehend what we want from AI models like ChatGPT or GPT-4, they need to be gently nudged in the right direction. Prompt engineering can help with it. The finest answers from the AI may be ensured by carefully structuring the prompts. Now, prompt engineering doesn’t only happen once. The process of adjusting and experimenting is continuing. When we ask the AI a question, we experiment with varied wording and the addition of unique rules. We seem to be concocting a miraculous concoction of instructions! Let’s take a look at some rules to construct good prompts to generate accurate results for AI.\n",
    "\n",
    "# Some Rules of Prompt Engineering\n",
    "Rule 1: Use latest AI models for your tasks\n",
    "\n",
    "It is important to use latest AI models, because AI models do not tend to give accurate results when they are not updated with recent data. For example, ChatGPT was trained on data dated till September 2021 so it won’t be able to provide you with information after September 2021. Whereas, GPT-4 (or ChatGPT plus) is trained on latest data and is able to generate latest information.\n",
    "\n",
    "Rule 2: Start your prompt with Instructions, and use “”” or ### to separate your input from your instruction.\n",
    "\n",
    "For example,"
   ]
  },
  {
   "cell_type": "code",
   "execution_count": 5,
   "id": "0f75ee1d",
   "metadata": {},
   "outputs": [],
   "source": [
    "# function that takes in string argument as parameter\n",
    "def comp(PROMPT, MaxToken=50, outputs=3):\n",
    "\t# using OpenAI's Completion module that helps execute\n",
    "\t# any tasks involving text\n",
    "\tresponse = openai.Completion.create(\n",
    "\t\t# model name used here is text-davinci-003\n",
    "\t\t# there are many other models available under the\n",
    "\t\t# umbrella of GPT-3\n",
    "\t\tmodel=\"gpt-3.5-turbo-instruct\",\n",
    "\t\t# passing the user input\n",
    "\t\tprompt=PROMPT,\n",
    "\t\t# generated output can have \"max_tokens\" number of tokens\n",
    "\t\tmax_tokens=MaxToken,\n",
    "\t\t# number of outputs generated in one call\n",
    "\t\tn=outputs\n",
    "\t)\n",
    "\t# creating a list to store all the outputs\n",
    "\toutput = list()\n",
    "\tfor k in response['choices']:\n",
    "\t\toutput.append(k['text'].strip())\n",
    "\treturn output\n"
   ]
  },
  {
   "cell_type": "markdown",
   "id": "8cf35bec",
   "metadata": {},
   "source": [
    "Here we generated text for the user prompt using the Completions module from the OpenAI library. These are the crucial variables related to the Completions module:\n",
    "\n",
    "model [required]: The following openai command can be used to determine the ID of the model to openai.Model.list().data with the model name as the value of the ‘id’ field. We must choose a model that will work for us.\n",
    "\n",
    "prompt: The prompt(s) to generate completions for, encoded as a string, array of strings, array of tokens, or array of token \n",
    "arrays. Note that <|endoftext|> is the document separator that the model sees during training, so if a prompt is not specified the model will generate as if from the beginning of a new document.\n",
    "\n",
    "max_tokens: The maximum number of tokens that the completion will generate. 16 is the default value for the parameter.\n",
    "\n",
    "temperature: The range of the sampling temperature is 0 to 2. In contrast to lower values like 0.2, higher values like 0.8 will result in a more focused and deterministic output.\n",
    "\n",
    "n: The number of answers to produce for each prompt.\n",
    "Example prompts for Text Generation\n",
    "\n",
    "# Now let’s try some prompts for Text Generation using Completions module(Chatgpt with Python).\n",
    "\n",
    "# Prompt 1:"
   ]
  },
  {
   "cell_type": "code",
   "execution_count": 6,
   "id": "94d8f5a4",
   "metadata": {},
   "outputs": [
    {
     "data": {
      "text/plain": [
       "[\"In the vast forest, Mr. Rabbit and Mr. Turtle had a long-standing rivalry. They were both determined to reach the top of the mountain to prove their worth. The race began and while Mr. Rabbit sprinted ahead, Mr. Turtle maintained a steady pace. Along the way, Mr. Rabbit's overconfidence led him astray, while Mr. Turtle stayed focused and crossed the finish line first, inspiring greatness and proving that slow and steady truly wins the race.\",\n",
       " \"In the forest of Willow Creek, there lived a clever rabbit named Rufus and a determined turtle named Theo. One day, they both heard about a race to the top of Mount Summit where the winner would be crowned the greatest forest creature.\\n\\nRufus, known for his speed and agility, saw this as a perfect opportunity to prove his superiority. Meanwhile, Theo, who was often underestimated for his slow pace, saw it as a chance to defy expectations and achieve greatness.\\n\\nAs the race began, Rufus dashed ahead with confidence, leaving Theo far behind. But as they reached a treacherous hill, Rufus stumbled and struggled to climb while Theo, with his perseverance and steady pace, made his way up easily.\\n\\nIn the end, it was Theo who reached the peak and was crowned the winner. Rufus was humbled and in awe of Theo's determination, realizing that greatness is not just about speed, but also about resilience and perseverance.\\n\\nFrom that day on, Rufus and Theo became great friends, proving that even the unlikeliest of competitors can inspire greatness in each other. Together, they showed the forest that with determination and collaboration, anything is possible.\",\n",
       " 'Deep in the forest, there were two creatures who were known for their speed, the rabbit and the turtle. They both had a common goal, to win a race and be known as the fastest in the forest.\\n\\nThe rabbit, known for its agility and swiftness, mocked the slow and steady turtle. But the turtle, determined and focused, ignored the taunts and simply said, \"Slow and steady wins the race.\"\\n\\nAs the race began, the rabbit zoomed ahead, leaving the turtle far behind. But as they approached the finish line, the rabbit got distracted by the cheers of the onlookers, while the turtle stayed focused on the goal and crossed the finish line first. And in that moment, the turtle proved that greatness doesn\\'t always come from speed, but from perseverance and determination.']"
      ]
     },
     "execution_count": 6,
     "metadata": {},
     "output_type": "execute_result"
    }
   ],
   "source": [
    "PROMPT = \"\"\"Write a story to inspire greatness, take the antagonist as a Rabbit and protagnist as turtle.\n",
    "Let antagonist and protagnist compete against each other for a common goal.\n",
    "Story should atmost have 3 lines.\"\"\"\n",
    "comp(PROMPT, MaxToken=3000, outputs=3)\n"
   ]
  },
  {
   "cell_type": "code",
   "execution_count": 7,
   "id": "b5312374",
   "metadata": {},
   "outputs": [
    {
     "data": {
      "text/plain": [
       "['Client: \"This bottle of wine is more sour than my bank account!\"\\nBusinessman: \"Patience, gentle sir: for wine in its nature is far more wise than strange men.\"\\n\\nClient: \"Clearly, the bitterness of this bottle is more palpable than my opinion.\"\\nBusinessman: \"Verily, \\'tis the fortune of your taste that it be so unappeased.\"']"
      ]
     },
     "execution_count": 7,
     "metadata": {},
     "output_type": "execute_result"
    }
   ],
   "source": [
    "PROMPT = \"\"\"Write a short conversation between client and businessman about a wine bottle purchase.\n",
    "Client is not happy with the purchase and the businessman is not accepting his mistake.\n",
    "Make the conversation sarcastic.\n",
    "Each Response should have atmost 2 lines.\n",
    "The client should talk like Kevin Hart and businessman should talk like Shakespeare.\n",
    "\"\"\"\n",
    "comp(PROMPT, MaxToken=3000, outputs=1)\n"
   ]
  },
  {
   "cell_type": "markdown",
   "id": "cfdb52a2",
   "metadata": {},
   "source": [
    "# Example prompts for Text Completion\n",
    "Now let’s try some prompts for Text Completion using Completions module.\n",
    "\n",
    "Prompt 1:"
   ]
  },
  {
   "cell_type": "code",
   "execution_count": 8,
   "id": "1b2eeb4c",
   "metadata": {},
   "outputs": [
    {
     "data": {
      "text/plain": [
       "[\"No worries! How about I give you an old-fashioned canteen instead? It's much more durable, and perfect for any outdoor adventures you have planned.\"]"
      ]
     },
     "execution_count": 8,
     "metadata": {},
     "output_type": "execute_result"
    }
   ],
   "source": [
    "PROMPT = \"\"\"Complete the below conversation between a client and a worker.\n",
    "Make the conversation have a wholesome plot twist.\n",
    "Conversation : ###\n",
    "Client: I want a water bottle.\n",
    "Worker: I don't have any water botlles.\n",
    "Client: But I want water bottles.\n",
    "Worker:\n",
    "###\n",
    "\"\"\"\n",
    "comp(PROMPT, MaxToken=3000, outputs=1)\n"
   ]
  },
  {
   "cell_type": "markdown",
   "id": "75ded5f7",
   "metadata": {},
   "source": [
    "Prompt 2"
   ]
  },
  {
   "cell_type": "code",
   "execution_count": 9,
   "id": "195cb768",
   "metadata": {},
   "outputs": [
    {
     "data": {
      "text/plain": [
       "['Midas, as proud and arrogant as he was, asked for everything he touched to turn to gold. The angel with a sad face, granted his wish, and it came true immediately.\\nMidas was happy in the beginning as he could make gold wherever he went, but soon his greed led to consequences. He found out that he could not eat and drink anything.\\nHe could not even hug his daughter as everything he touched turned into gold. Midas realised that he was a fool to wish for something so foolish and he began to weep.\\n\\nThe angel appeared again and offered to remove the wish, but with a warning. She warned him about his arrogance and greed and told him to be wise and careful in his decisions. Midas accepted the wisdom and thanked the angel.\\n\\nMidas began to live a more balanced life, appreciating the blessings he already had and being careful of what he wished for in the future. He gave away most of his gold and found peace within himself. From then on, Midas dedicated his life to helping the poor and those in need, all the while learning the lessons of humility and gratitude.']"
      ]
     },
     "execution_count": 9,
     "metadata": {},
     "output_type": "execute_result"
    }
   ],
   "source": [
    "PROMPT = \"\"\"\n",
    "Complete the below story.\n",
    "Story should focus on a moral value like Greed, Wrath, Pride, Arrogance, Sloth or Envy.\n",
    "\n",
    "Story:###\n",
    "Once upon a time, there was a Greek King, Midas.\n",
    "He was very rich and had lots of Gold. He had a daughter, who he loved a lot.\n",
    "One day, Midas found an angel in need of help. He helped her and in return she agreed to grant a wish.\n",
    "###\n",
    "\"\"\"\n",
    "comp(PROMPT, MaxToken=3000, outputs=1)\n"
   ]
  },
  {
   "cell_type": "markdown",
   "id": "4fe5c424",
   "metadata": {},
   "source": [
    "Example prompts for Translation\n",
    "Now let’s try some prompts for Translation using Completions module.\n",
    "\n",
    "Prompt 1:"
   ]
  },
  {
   "cell_type": "code",
   "execution_count": 10,
   "id": "70395661",
   "metadata": {},
   "outputs": [
    {
     "data": {
      "text/plain": [
       "['Japanese: 私はOpenAI Python APIについて学んでいます。\\nHindi: मैं OpenAI Python API के बारे में सीख रहा हूँ।']"
      ]
     },
     "execution_count": 10,
     "metadata": {},
     "output_type": "execute_result"
    }
   ],
   "source": [
    "PROMPT = \"\"\"\n",
    "Translate the below text in Japanese and Hindi.\n",
    "Text:###\n",
    "I am learning about OpenAI Python API.\n",
    "###\n",
    "\"\"\"\n",
    "comp(PROMPT, MaxToken=3000, outputs=1)\n"
   ]
  },
  {
   "cell_type": "markdown",
   "id": "f883bc27",
   "metadata": {},
   "source": [
    "Prompt 2"
   ]
  },
  {
   "cell_type": "code",
   "execution_count": 12,
   "id": "0d917b5e",
   "metadata": {},
   "outputs": [
    {
     "data": {
      "text/plain": [
       "[\"German: Ich lerne über OpenAI Python API.\\nFrench: J'apprends à utiliser l'API Python OpenAI.\"]"
      ]
     },
     "execution_count": 12,
     "metadata": {},
     "output_type": "execute_result"
    }
   ],
   "source": [
    "PROMPT = \"\"\"\n",
    "Translate the below text in German and French.\n",
    "Text:###\n",
    "I am learning about OpenAI Python API.\n",
    "###\n",
    "\"\"\"\n",
    "comp(PROMPT, MaxToken=3000, outputs=1)\n"
   ]
  },
  {
   "cell_type": "markdown",
   "id": "1ae41507",
   "metadata": {},
   "source": [
    "Example prompts for Summarization\n",
    "Now let’s try some prompts for Summarization using Completions module.\n",
    "\n",
    "Prompt 1:"
   ]
  },
  {
   "cell_type": "code",
   "execution_count": 38,
   "id": "4d3f4084",
   "metadata": {},
   "outputs": [
    {
     "data": {
      "text/plain": [
       "['A hare and a tortoise decide to have a race to establish the better one. The hare starts off more quickly, becoming overconfident and taking a nap. The determined and dedicated tortoise eventually wins, exhibiting humility instead of arrogance.']"
      ]
     },
     "execution_count": 38,
     "metadata": {},
     "output_type": "execute_result"
    }
   ],
   "source": [
    "PROMPT = \"\"\"\n",
    "Summarize the below text and extract the key points.\n",
    "Text:###\n",
    "This is an extremely popular story about a hare and a tortoise.\n",
    "The hare is an animal that is known to move quickly, while a tortoise is one to move slowly.\n",
    "One day, the hare challenged the tortoise to a race simply to prove that he was the best. The tortoise agreed.\n",
    "Once the race began the hare was easily able to get a head start. Upon realizing that the tortoise is far behind. The overconfident hare decided to take a nap.\n",
    "Meanwhile the tortoise, who was extremely determined and dedicated to the race was slowly nearing the finish line.\n",
    "The tortoise won the race while the hare napped. Most importantly he did it with humility and without arrogance.\n",
    "###\n",
    "\"\"\"\n",
    "comp(PROMPT, MaxToken=3000, outputs=1)\n"
   ]
  },
  {
   "cell_type": "markdown",
   "id": "d8e15b62",
   "metadata": {},
   "source": [
    "Prompt 2"
   ]
  },
  {
   "cell_type": "code",
   "execution_count": 39,
   "id": "5140354a",
   "metadata": {},
   "outputs": [
    {
     "data": {
      "text/plain": [
       "['- A farmer instructs his son to take their herd of sheep out to graze every day\\n- The son gets bored and cries out \"Wolf! Wolf!\" in order to cause some commotion, even though there is no wolf\\n-The villagers become furious with the boy for creating chaos unnecessarily\\n-The boy shouts \"Wolf!\" for a third time when there is an actual wolf attack, but the villagers do not come to his aid, believing that he is lying again']"
      ]
     },
     "execution_count": 39,
     "metadata": {},
     "output_type": "execute_result"
    }
   ],
   "source": [
    "PROMPT = \"\"\"\n",
    "Summarize the below text in bullet points.\n",
    "Text:###\n",
    "A farmer asked his son to take their herd of sheep grazing every day.\n",
    "While the boy watched over the sheep, he got bored and decided to have some fun.\n",
    "So, he shouted, “Wolf! Wolf!”. Upon hearing this the villagers ran to help him chase the Wolf away.\n",
    "As they reached him, they realized that there was no Wolf and he was just kidding.\n",
    "The villagers were furious and they yelled at the boy for creating chaos and panic.\n",
    "On the next day and the boy shouted “Wolf!” again and once again the villagers came to help him and saw that there was no wolf.\n",
    "This made them very angry again.\n",
    "On the same day, the boy saw an actual Wolf that has terrorizing the sheep.\n",
    "The boy cried “Wolf! Wolf! please help me” and no villagers showed up as they believed that the boy was joking again.\n",
    "###\n",
    "\"\"\"\n",
    "comp(PROMPT, MaxToken=3000, outputs=1)\n"
   ]
  },
  {
   "cell_type": "markdown",
   "id": "cf892057",
   "metadata": {},
   "source": [
    "# Example prompts for Retrieving factual information\n",
    "Now let’s try some prompts for Retrieving factual information using Completions module.\n",
    "\n",
    "Prompt 1:Example prompts for Retrieving factual information\n",
    "Now let’s try some prompts for Retrieving factual information using Completions module.\n",
    "\n",
    "Prompt 1:"
   ]
  },
  {
   "cell_type": "code",
   "execution_count": 40,
   "id": "d7e6a0e0",
   "metadata": {},
   "outputs": [
    {
     "data": {
      "text/plain": [
       "['India consists of 28 states and 8 union territories as of 2020:\\n\\nStates:\\n\\n1. Andhra Pradesh\\n2. Arunachal Pradesh\\n3. Assam\\n4. Bihar\\n5. Chhattisgarh\\n6. Goa\\n7. Gujarat\\n8. Haryana\\n9. Himachal Pradesh\\n10. Jammu and Kashmir\\n11. Jharkhand\\n12. Karnataka\\n13. Kerala\\n14. Madhya Pradesh\\n15. Maharashtra\\n16. Manipur\\n17. Meghalaya\\n18. Mizoram\\n19. Nagaland\\n20. Odisha\\n21. Punjab\\n22. Rajasthan\\n23. Sikkim\\n24. Tamil Nadu\\n25. Telangana\\n26. Tripura\\n27. Uttarakhand\\n28. Uttar Pradesh\\n\\nUnion Territories: \\n\\n1. Andaman and Nicobar Islands\\n2. Chandigarh\\n3. Dadra and Nagar Haveli\\n4. Daman and Diu\\n5. Delhi\\n6. Lakshadweep\\n7. Ladakh\\n8. Puducherry']"
      ]
     },
     "execution_count": 40,
     "metadata": {},
     "output_type": "execute_result"
    }
   ],
   "source": [
    "PROMPT = \"\"\"\n",
    "What all states and union teritories are in India?\n",
    "\"\"\"\n",
    "comp(PROMPT, MaxToken=3000, outputs=1)\n"
   ]
  },
  {
   "cell_type": "code",
   "execution_count": 41,
   "id": "29329ad3",
   "metadata": {},
   "outputs": [
    {
     "data": {
      "text/plain": [
       "['As of 2021, Dwayne Johnson, best known as The Rock, is the highest paid actor in the world, reportedly earning an estimated $87.5 million in 2020.']"
      ]
     },
     "execution_count": 41,
     "metadata": {},
     "output_type": "execute_result"
    }
   ],
   "source": [
    "PROMPT = \"\"\"\n",
    "Who is the highest paid actor in the world?\n",
    "\"\"\"\n",
    "comp(PROMPT, MaxToken=3000, outputs=1)\n"
   ]
  },
  {
   "cell_type": "markdown",
   "id": "67ca04a1",
   "metadata": {},
   "source": [
    "# Example prompts for Text Conversion\n",
    "Now let’s try some prompts for Text Conversion using Completions module.\n",
    "\n",
    "# Prompt 1:"
   ]
  },
  {
   "cell_type": "code",
   "execution_count": 13,
   "id": "be28ef29",
   "metadata": {},
   "outputs": [
    {
     "name": "stdout",
     "output_type": "stream",
     "text": [
      "1. 🧙‍♂️ of 🌈\n",
      "2. 🎭 🧩\n",
      "3. 🔮 🏃‍♀️\n"
     ]
    }
   ],
   "source": [
    "PROMPT = \"\"\"\n",
    "Convert the below movie titles in emojis\n",
    "Movies List:###\n",
    "1. Wizard of Oz\n",
    "2. The imitation game\n",
    "3. Ghosted\n",
    "###\n",
    "\"\"\"\n",
    "print(comp(PROMPT, MaxToken=3000, outputs=1)[0])\n"
   ]
  },
  {
   "cell_type": "markdown",
   "id": "c16d0a7e",
   "metadata": {},
   "source": [
    "# Prompt 2"
   ]
  },
  {
   "cell_type": "code",
   "execution_count": 18,
   "id": "6b24c458",
   "metadata": {},
   "outputs": [
    {
     "name": "stdout",
     "output_type": "stream",
     "text": [
      "1. 㔹㔻㔹㔶㔻㔶㔾\n",
      "2. 㔶㔹\n",
      "3. 㔹㔸㔹㔻㔼㔶㔳\n"
     ]
    }
   ],
   "source": [
    "PROMPT = \"\"\"\n",
    "Encode the below texts in only special characters\n",
    "Text:###\n",
    "1. Sessions \n",
    "2. on\n",
    "3. OPENAI\n",
    "###\n",
    "\"\"\"\n",
    "print(comp(PROMPT, MaxToken=3000, outputs=1)[0])\n"
   ]
  },
  {
   "cell_type": "markdown",
   "id": "f419234d",
   "metadata": {},
   "source": [
    "# Chat\n",
    "For performing any chat specific tasks you can define the following function and execute it with your desired prompts."
   ]
  },
  {
   "cell_type": "code",
   "execution_count": 7,
   "id": "8c508b93",
   "metadata": {},
   "outputs": [],
   "source": [
    "# function that takes in string argument as parameter\n",
    "def chat(MSGS, MaxToken=50, outputs=3):\n",
    "\t# We use the Chat Completion endpoint for chat like inputs\n",
    "\tresponse = openai.ChatCompletion.create(\n",
    "\t# model used here is ChatGPT\n",
    "\t# You can use all these models for this endpoint:\n",
    "\t# gpt-4, gpt-4-0314, gpt-4-32k, gpt-4-32k-0314,\n",
    "\t# gpt-3.5-turbo, gpt-3.5-turbo-0301\n",
    "\tmodel=\"gpt-3.5-turbo\",\n",
    "\tmessages=MSGS,\n",
    "\t# max_tokens generated by the AI model\n",
    "\t# maximu value can be 4096 tokens for \"gpt-3.5-turbo\"\n",
    "\tmax_tokens = MaxToken,\n",
    "\t# number of output variations to be generated by AI model\n",
    "\tn = outputs,\n",
    "\t)\n",
    "\treturn response.choices[0].message\n",
    "\n",
    "# Messages must consist of a collection of message objects,\n",
    "# each of which includes a role (either \"system,\" \"user,\" or \"assistant\")\n",
    "# and a content field for the message's actual text.\n",
    "# Conversations might last only 1 message or span several pages.\n",
    "MSGS = [\n",
    "\t\t{\"role\": \"system\", \"content\": \"<message generated by system>\"},\n",
    "\t\t{\"role\": \"user\", \"content\": \"<message generated by user>\"},\n",
    "\t\t{\"role\": \"assistant\", \"content\": \"<message generated by assistant>\"}\n",
    "\t]\n"
   ]
  },
  {
   "cell_type": "markdown",
   "id": "e1519d28",
   "metadata": {},
   "source": [
    "Here, we have used the ChatCompletion module from OpenAI library to execute chat specific tasks using ChatGPT model. Here are the important parameters involved with ChatCompletion module:\n",
    "\n",
    "model [required]: ID of the appropriate model. For information on which models are compatible with the Chat API, go to the model endpoint compatibility table (https://platform.openai.com/docs/models/model-endpoint-compatibility).\n",
    "message: A chronological list of the conversation’s messages. The list of objects must contain dictionary with the following parameters only:\n",
    "Role: The role of the author of this message. It can be either of “system”, “user”, or “assistant”.\n",
    "Content: The contents of the message.\n",
    "max_tokens: The maximum number of tokens to generate in the completion. The default value is 16.\n",
    "temperature: Sampling temperature ranges between 0 and 2. Higher values like 0.8 will make the output more random, while lower values like 0.2 will make it more focused and deterministic.\n",
    "n: number of completions to generate for each prompt.\n",
    "Examples for Chat Completion\n",
    "Now Let’s see some examples to gain a better understanding of the ChatCompletion API\n",
    "\n",
    "Prompt 1:"
   ]
  },
  {
   "cell_type": "code",
   "execution_count": 8,
   "id": "a5aba06c",
   "metadata": {},
   "outputs": [
    {
     "data": {
      "text/plain": [
       "<OpenAIObject at 0x295cda7bfb0> JSON: {\n",
       "  \"content\": \"India won the Cricket World Cup twice. The first time India won the Cricket World Cup was in 1983, when they defeated the West Indies in the final held at Lord's Cricket Ground in London, England. The second time India won the World Cup was in 2011, when they defeated Sri Lanka in the final held at Wankhede Stadium in Mumbai, India.\",\n",
       "  \"role\": \"assistant\"\n",
       "}"
      ]
     },
     "execution_count": 8,
     "metadata": {},
     "output_type": "execute_result"
    }
   ],
   "source": [
    "ch = [\n",
    "\t\t{\"role\": \"user\", \"content\": \"When did India win the world cup\"}\n",
    "\t]\n",
    "\n",
    "chat(ch, MaxToken=500, outputs=1)\n"
   ]
  },
  {
   "cell_type": "code",
   "execution_count": 24,
   "id": "fa300d45",
   "metadata": {},
   "outputs": [
    {
     "data": {
      "text/plain": [
       "<OpenAIObject at 0x2563ce8f400> JSON: {\n",
       "  \"role\": \"assistant\",\n",
       "  \"content\": \"Certainly! Here are a few delicious chocolate names: \\n\\n1. Midnight Truffle\\n2. Caramel Dream\\n3. Nutty Delight\\n4. Velvet Espresso\\n5. Raspberry Bliss\\n6. Hazelnut Heaven\\n7. Minty Meltdown\\n8. Peanut Butter Paradise\\n9. Coconut Cream\\n10. Almond Joyful.\\n\\nThese names evoke the tempting and indulgent nature of various chocolate flavors. Enjoy!\"\n",
       "}"
      ]
     },
     "execution_count": 24,
     "metadata": {},
     "output_type": "execute_result"
    }
   ],
   "source": [
    "ch = [\n",
    "\t\t{\"role\": \"user\", \"content\": \"Do you live with Snow White?\"},\n",
    "\t{\"role\": \"assistant\", \"content\": \"No, I live with Willy Wonka in the chocoalte factory.\"},\n",
    "\t{\"role\": \"user\", \"content\": \"Can you tell me some good chocolate names?\"}\n",
    "\n",
    "\t]\n",
    "\n",
    "chat(ch, MaxToken=500, outputs=1)\n"
   ]
  },
  {
   "cell_type": "markdown",
   "id": "b32e7540",
   "metadata": {},
   "source": [
    "\n",
    "# Image\n",
    "We can perform Image generation and Image editing using DALL-E model of OpenAI. Before we begin, let’s import some image-processing libraries."
   ]
  },
  {
   "cell_type": "code",
   "execution_count": 9,
   "id": "c5211a75",
   "metadata": {},
   "outputs": [],
   "source": [
    "# importing other libraries\n",
    "import requests\n",
    "from PIL import Image\n",
    "from io import BytesIO\n",
    "#import openai if using it in a new notebook"
   ]
  },
  {
   "cell_type": "markdown",
   "id": "15ab2b86",
   "metadata": {},
   "source": [
    "Now we construct a function to produce an image using the DALL E API’s “create” endpoint.\n"
   ]
  },
  {
   "cell_type": "code",
   "execution_count": 10,
   "id": "806c5850",
   "metadata": {},
   "outputs": [],
   "source": [
    "# function for text-to-image generation\n",
    "# using create endpoint of DALL-E API\n",
    "# function takes in a string argument\n",
    "def generate(text):\n",
    "    res = openai.Image.create(\n",
    "\t# text describing the generated image\n",
    "\tprompt=text,\n",
    "\t# number of images to generate\n",
    "\tn=1,\n",
    "\t# size of each generated image\n",
    "\tsize=\"256x256\",\n",
    "    )\n",
    "# returning the URL of one image as\n",
    "# we are generating only one image\n",
    "    return res[\"data\"][0][\"url\"]\n"
   ]
  },
  {
   "cell_type": "markdown",
   "id": "76bf792d",
   "metadata": {},
   "source": [
    "An argument string is passed to the API endpoint by the aforementioned function. Other parameters are n (the “number of images generated using that prompt”) and size (the “size of the image generated”). Either Base64 or a URL can be used by the API to generate an image. As output, API provides the created image’s URL."
   ]
  },
  {
   "cell_type": "markdown",
   "id": "91968446",
   "metadata": {},
   "source": [
    "# Examples for Image Generation\n",
    "Now Let’s see some examples to gain a better understanding of Image Generation using DALL-E\n",
    "\n",
    "Prompt 1:"
   ]
  },
  {
   "cell_type": "code",
   "execution_count": 11,
   "id": "12e8c020",
   "metadata": {},
   "outputs": [
    {
     "data": {
      "image/png": "[encoded data removed]",
      "text/plain": [
       "<PIL.PngImagePlugin.PngImageFile image mode=RGB size=256x256>"
      ]
     },
     "execution_count": 11,
     "metadata": {},
     "output_type": "execute_result"
    }
   ],
   "source": [
    "# prompt describing the desired image\n",
    "text = \"batman in red and blue color\"\n",
    "# calling the custom function \"generate\"\n",
    "# saving the output in \"url1\"\n",
    "url1 = generate(text)\n",
    "# using requests library to get the image in bytes\n",
    "response = requests.get(url1, stream=True)\n",
    "# using the Image module from PIL library to view the image\n",
    "Image.open(response.raw)\n"
   ]
  },
  {
   "cell_type": "markdown",
   "id": "96d0ea27",
   "metadata": {},
   "source": [
    "Prompt 2"
   ]
  },
  {
   "cell_type": "code",
   "execution_count": 34,
   "id": "c1cc323e",
   "metadata": {},
   "outputs": [
    {
     "data": {
      "image/png": "[encoded data removed]",
      "text/plain": [
       "<PIL.PngImagePlugin.PngImageFile image mode=RGB size=256x256>"
      ]
     },
     "execution_count": 34,
     "metadata": {},
     "output_type": "execute_result"
    }
   ],
   "source": [
    "# text prompt describing my desired image\n",
    "text = \"a scenic view of moon shining light on a yacht\"\n",
    "# generate function uses DALL-E API to generate image\n",
    "# it returns a temporary URL of the image\n",
    "url1 = generate(text)\n",
    "# We use the requests library to fetch the image from URL\n",
    "response = requests.get(url1, stream=True)\n",
    "# We use the Image Class from PIL library to open the image\n",
    "Image.open(response.raw)\n"
   ]
  },
  {
   "cell_type": "markdown",
   "id": "e69a6bf0",
   "metadata": {},
   "source": [
    "\n",
    "# Examples for Image Editing\n",
    "For editing the image we use the create edit endpoint of the DALL-E API. In this section, a mask will be uploaded and a text prompt will be supplied in order to change an image. Where the image should be altered is indicated by the transparent portions of the mask, and the prompt should describe the entire new image rather than just the area that was erased.\n",
    "\n",
    "Make sure your image and mask are of the same size (square PNG) and less than 4MB in size before passing them as arguments to API. For this we use the below code."
   ]
  },
  {
   "cell_type": "code",
   "execution_count": 13,
   "id": "5d4f45cf",
   "metadata": {},
   "outputs": [
    {
     "data": {
      "text/plain": [
       "'C:\\\\Users\\\\imcoo'"
      ]
     },
     "execution_count": 13,
     "metadata": {},
     "output_type": "execute_result"
    }
   ],
   "source": [
    "import os\n",
    "os.getcwd()"
   ]
  },
  {
   "cell_type": "code",
   "execution_count": 12,
   "id": "61930b27",
   "metadata": {},
   "outputs": [],
   "source": [
    "response = requests.get(url1)\n",
    "# saving the image in PNG format\n",
    "with open(\"img.png\", \"wb\") as f:\n",
    "    f.write(response.content)\n",
    "# opening the saved image and converting it into \"RGBA\" format\n",
    "# converted image is saved in result\n",
    "result = Image.open('img.png').convert('RGBA')\n",
    "# saving the new image in PNG format\n",
    "result.save('img_rgba.png','PNG')\n"
   ]
  },
  {
   "cell_type": "markdown",
   "id": "569d1468",
   "metadata": {},
   "source": [
    "Also, write a prompt such that it describes the full new image not just the transparent area that needs to be replaced. Use the following lines of code to edit the image.\n",
    "\n",
    "Let’s see the example to gain a better understanding of Image Editing using DALL-E.\n",
    "\n",
    "Image 1:\n",
    "\n",
    "We will be using the below image as input:"
   ]
  },
  {
   "cell_type": "markdown",
   "id": "0f29826e",
   "metadata": {},
   "source": [
    "Below is the code for editing the image and generating 3 images as output."
   ]
  },
  {
   "cell_type": "code",
   "execution_count": 15,
   "id": "8624f9bf",
   "metadata": {},
   "outputs": [
    {
     "ename": "InvalidRequestError",
     "evalue": "Invalid input image - format must be in ['RGBA', 'LA', 'L'], got RGB.",
     "output_type": "error",
     "traceback": [
      "\u001b[1;31m---------------------------------------------------------------------------\u001b[0m",
      "\u001b[1;31mInvalidRequestError\u001b[0m                       Traceback (most recent call last)",
      "Cell \u001b[1;32mIn[15], line 2\u001b[0m\n\u001b[0;32m      1\u001b[0m \u001b[38;5;66;03m# using create_edit endpoint of the DALL - E API\u001b[39;00m\n\u001b[1;32m----> 2\u001b[0m response \u001b[38;5;241m=\u001b[39m openai\u001b[38;5;241m.\u001b[39mImage\u001b[38;5;241m.\u001b[39mcreate_edit(\n\u001b[0;32m      3\u001b[0m     \u001b[38;5;66;03m# opening original image in read mode\u001b[39;00m\n\u001b[0;32m      4\u001b[0m     image\u001b[38;5;241m=\u001b[39m\u001b[38;5;28mopen\u001b[39m(\u001b[38;5;124m\"\u001b[39m\u001b[38;5;124mimg_rgba.png\u001b[39m\u001b[38;5;124m\"\u001b[39m, \u001b[38;5;124m\"\u001b[39m\u001b[38;5;124mrb\u001b[39m\u001b[38;5;124m\"\u001b[39m),\n\u001b[0;32m      5\u001b[0m     \u001b[38;5;66;03m# opening mask image in read mode\u001b[39;00m\n\u001b[0;32m      6\u001b[0m     mask\u001b[38;5;241m=\u001b[39m\u001b[38;5;28mopen\u001b[39m(\u001b[38;5;124m\"\u001b[39m\u001b[38;5;124mmask.png\u001b[39m\u001b[38;5;124m\"\u001b[39m, \u001b[38;5;124m\"\u001b[39m\u001b[38;5;124mrb\u001b[39m\u001b[38;5;124m\"\u001b[39m),\n\u001b[0;32m      7\u001b[0m     \u001b[38;5;66;03m# text prompt describing the new image\u001b[39;00m\n\u001b[0;32m      8\u001b[0m     prompt\u001b[38;5;241m=\u001b[39m\u001b[38;5;124m\"\u001b[39m\u001b[38;5;124mgotham city skyline behind batman\u001b[39m\u001b[38;5;124m\"\u001b[39m,\n\u001b[0;32m      9\u001b[0m     \u001b[38;5;66;03m# number of images to be generated\u001b[39;00m\n\u001b[0;32m     10\u001b[0m     n\u001b[38;5;241m=\u001b[39m\u001b[38;5;241m1\u001b[39m,\n\u001b[0;32m     11\u001b[0m     \u001b[38;5;66;03m#size of each image generated in pixels\u001b[39;00m\n\u001b[0;32m     12\u001b[0m     size\u001b[38;5;241m=\u001b[39m\u001b[38;5;124m\"\u001b[39m\u001b[38;5;124m256x256\u001b[39m\u001b[38;5;124m\"\u001b[39m\n\u001b[0;32m     13\u001b[0m     )\n\u001b[0;32m     15\u001b[0m \u001b[38;5;66;03m# saving the URLs of all image in new variable \"res\"\u001b[39;00m\n\u001b[0;32m     16\u001b[0m res \u001b[38;5;241m=\u001b[39m response[\u001b[38;5;124m'\u001b[39m\u001b[38;5;124mdata\u001b[39m\u001b[38;5;124m'\u001b[39m]\n",
      "File \u001b[1;32m~\\anaconda3\\Lib\\site-packages\\openai\\api_resources\\image.py:209\u001b[0m, in \u001b[0;36mImage.create_edit\u001b[1;34m(cls, image, mask, api_key, api_base, api_type, api_version, organization, **params)\u001b[0m\n\u001b[0;32m    186\u001b[0m \u001b[38;5;129m@classmethod\u001b[39m\n\u001b[0;32m    187\u001b[0m \u001b[38;5;28;01mdef\u001b[39;00m \u001b[38;5;21mcreate_edit\u001b[39m(\n\u001b[0;32m    188\u001b[0m     \u001b[38;5;28mcls\u001b[39m,\n\u001b[1;32m   (...)\u001b[0m\n\u001b[0;32m    196\u001b[0m     \u001b[38;5;241m*\u001b[39m\u001b[38;5;241m*\u001b[39mparams,\n\u001b[0;32m    197\u001b[0m ):\n\u001b[0;32m    198\u001b[0m     requestor, url, files \u001b[38;5;241m=\u001b[39m \u001b[38;5;28mcls\u001b[39m\u001b[38;5;241m.\u001b[39m_prepare_create_edit(\n\u001b[0;32m    199\u001b[0m         image,\n\u001b[0;32m    200\u001b[0m         mask,\n\u001b[1;32m   (...)\u001b[0m\n\u001b[0;32m    206\u001b[0m         \u001b[38;5;241m*\u001b[39m\u001b[38;5;241m*\u001b[39mparams,\n\u001b[0;32m    207\u001b[0m     )\n\u001b[1;32m--> 209\u001b[0m     response, _, api_key \u001b[38;5;241m=\u001b[39m requestor\u001b[38;5;241m.\u001b[39mrequest(\u001b[38;5;124m\"\u001b[39m\u001b[38;5;124mpost\u001b[39m\u001b[38;5;124m\"\u001b[39m, url, files\u001b[38;5;241m=\u001b[39mfiles)\n\u001b[0;32m    211\u001b[0m     \u001b[38;5;28;01mreturn\u001b[39;00m util\u001b[38;5;241m.\u001b[39mconvert_to_openai_object(\n\u001b[0;32m    212\u001b[0m         response, api_key, api_version, organization\n\u001b[0;32m    213\u001b[0m     )\n",
      "File \u001b[1;32m~\\anaconda3\\Lib\\site-packages\\openai\\api_requestor.py:226\u001b[0m, in \u001b[0;36mAPIRequestor.request\u001b[1;34m(self, method, url, params, headers, files, stream, request_id, request_timeout)\u001b[0m\n\u001b[0;32m    205\u001b[0m \u001b[38;5;28;01mdef\u001b[39;00m \u001b[38;5;21mrequest\u001b[39m(\n\u001b[0;32m    206\u001b[0m     \u001b[38;5;28mself\u001b[39m,\n\u001b[0;32m    207\u001b[0m     method,\n\u001b[1;32m   (...)\u001b[0m\n\u001b[0;32m    214\u001b[0m     request_timeout: Optional[Union[\u001b[38;5;28mfloat\u001b[39m, Tuple[\u001b[38;5;28mfloat\u001b[39m, \u001b[38;5;28mfloat\u001b[39m]]] \u001b[38;5;241m=\u001b[39m \u001b[38;5;28;01mNone\u001b[39;00m,\n\u001b[0;32m    215\u001b[0m ) \u001b[38;5;241m-\u001b[39m\u001b[38;5;241m>\u001b[39m Tuple[Union[OpenAIResponse, Iterator[OpenAIResponse]], \u001b[38;5;28mbool\u001b[39m, \u001b[38;5;28mstr\u001b[39m]:\n\u001b[0;32m    216\u001b[0m     result \u001b[38;5;241m=\u001b[39m \u001b[38;5;28mself\u001b[39m\u001b[38;5;241m.\u001b[39mrequest_raw(\n\u001b[0;32m    217\u001b[0m         method\u001b[38;5;241m.\u001b[39mlower(),\n\u001b[0;32m    218\u001b[0m         url,\n\u001b[1;32m   (...)\u001b[0m\n\u001b[0;32m    224\u001b[0m         request_timeout\u001b[38;5;241m=\u001b[39mrequest_timeout,\n\u001b[0;32m    225\u001b[0m     )\n\u001b[1;32m--> 226\u001b[0m     resp, got_stream \u001b[38;5;241m=\u001b[39m \u001b[38;5;28mself\u001b[39m\u001b[38;5;241m.\u001b[39m_interpret_response(result, stream)\n\u001b[0;32m    227\u001b[0m     \u001b[38;5;28;01mreturn\u001b[39;00m resp, got_stream, \u001b[38;5;28mself\u001b[39m\u001b[38;5;241m.\u001b[39mapi_key\n",
      "File \u001b[1;32m~\\anaconda3\\Lib\\site-packages\\openai\\api_requestor.py:619\u001b[0m, in \u001b[0;36mAPIRequestor._interpret_response\u001b[1;34m(self, result, stream)\u001b[0m\n\u001b[0;32m    611\u001b[0m     \u001b[38;5;28;01mreturn\u001b[39;00m (\n\u001b[0;32m    612\u001b[0m         \u001b[38;5;28mself\u001b[39m\u001b[38;5;241m.\u001b[39m_interpret_response_line(\n\u001b[0;32m    613\u001b[0m             line, result\u001b[38;5;241m.\u001b[39mstatus_code, result\u001b[38;5;241m.\u001b[39mheaders, stream\u001b[38;5;241m=\u001b[39m\u001b[38;5;28;01mTrue\u001b[39;00m\n\u001b[0;32m    614\u001b[0m         )\n\u001b[0;32m    615\u001b[0m         \u001b[38;5;28;01mfor\u001b[39;00m line \u001b[38;5;129;01min\u001b[39;00m parse_stream(result\u001b[38;5;241m.\u001b[39miter_lines())\n\u001b[0;32m    616\u001b[0m     ), \u001b[38;5;28;01mTrue\u001b[39;00m\n\u001b[0;32m    617\u001b[0m \u001b[38;5;28;01melse\u001b[39;00m:\n\u001b[0;32m    618\u001b[0m     \u001b[38;5;28;01mreturn\u001b[39;00m (\n\u001b[1;32m--> 619\u001b[0m         \u001b[38;5;28mself\u001b[39m\u001b[38;5;241m.\u001b[39m_interpret_response_line(\n\u001b[0;32m    620\u001b[0m             result\u001b[38;5;241m.\u001b[39mcontent\u001b[38;5;241m.\u001b[39mdecode(\u001b[38;5;124m\"\u001b[39m\u001b[38;5;124mutf-8\u001b[39m\u001b[38;5;124m\"\u001b[39m),\n\u001b[0;32m    621\u001b[0m             result\u001b[38;5;241m.\u001b[39mstatus_code,\n\u001b[0;32m    622\u001b[0m             result\u001b[38;5;241m.\u001b[39mheaders,\n\u001b[0;32m    623\u001b[0m             stream\u001b[38;5;241m=\u001b[39m\u001b[38;5;28;01mFalse\u001b[39;00m,\n\u001b[0;32m    624\u001b[0m         ),\n\u001b[0;32m    625\u001b[0m         \u001b[38;5;28;01mFalse\u001b[39;00m,\n\u001b[0;32m    626\u001b[0m     )\n",
      "File \u001b[1;32m~\\anaconda3\\Lib\\site-packages\\openai\\api_requestor.py:679\u001b[0m, in \u001b[0;36mAPIRequestor._interpret_response_line\u001b[1;34m(self, rbody, rcode, rheaders, stream)\u001b[0m\n\u001b[0;32m    677\u001b[0m stream_error \u001b[38;5;241m=\u001b[39m stream \u001b[38;5;129;01mand\u001b[39;00m \u001b[38;5;124m\"\u001b[39m\u001b[38;5;124merror\u001b[39m\u001b[38;5;124m\"\u001b[39m \u001b[38;5;129;01min\u001b[39;00m resp\u001b[38;5;241m.\u001b[39mdata\n\u001b[0;32m    678\u001b[0m \u001b[38;5;28;01mif\u001b[39;00m stream_error \u001b[38;5;129;01mor\u001b[39;00m \u001b[38;5;129;01mnot\u001b[39;00m \u001b[38;5;241m200\u001b[39m \u001b[38;5;241m<\u001b[39m\u001b[38;5;241m=\u001b[39m rcode \u001b[38;5;241m<\u001b[39m \u001b[38;5;241m300\u001b[39m:\n\u001b[1;32m--> 679\u001b[0m     \u001b[38;5;28;01mraise\u001b[39;00m \u001b[38;5;28mself\u001b[39m\u001b[38;5;241m.\u001b[39mhandle_error_response(\n\u001b[0;32m    680\u001b[0m         rbody, rcode, resp\u001b[38;5;241m.\u001b[39mdata, rheaders, stream_error\u001b[38;5;241m=\u001b[39mstream_error\n\u001b[0;32m    681\u001b[0m     )\n\u001b[0;32m    682\u001b[0m \u001b[38;5;28;01mreturn\u001b[39;00m resp\n",
      "\u001b[1;31mInvalidRequestError\u001b[0m: Invalid input image - format must be in ['RGBA', 'LA', 'L'], got RGB."
     ]
    }
   ],
   "source": [
    "# using create_edit endpoint of the DALL - E API\n",
    "response = openai.Image.create_edit(\n",
    "    # opening original image in read mode\n",
    "    image=open(\"img_rgba.png\", \"rb\"),\n",
    "    # opening mask image in read mode\n",
    "    mask=open(\"mask.png\", \"rb\"),\n",
    "    # text prompt describing the new image\n",
    "    prompt=\"gotham city skyline behind batman\",\n",
    "    # number of images to be generated\n",
    "    n=1,\n",
    "    #size of each image generated in pixels\n",
    "    size=\"256x256\"\n",
    "    )\n",
    "\n",
    "# saving the URLs of all image in new variable \"res\"\n",
    "res = response['data']\n",
    "\n",
    "# loop to save and display images\n",
    "for i in range(len(res)):\n",
    "# saving URL of image in res\n",
    "    image_url = res[i]['url']\n",
    "    # extracting image from URL in bytes form\n",
    "    response = requests.get(image_url, stream=True)\n",
    "    # opening the image\n",
    "    k = Image.open(response.raw)\n",
    "    # displaying the image\n",
    "    k.show()\n",
    "    # saving the image\n",
    "    with open(f\"img_mask_edit_{i}.png\", \"wb\") as f:\n",
    "        f.write(response.content)\n"
   ]
  },
  {
   "cell_type": "markdown",
   "id": "f7bfc19a",
   "metadata": {},
   "source": [
    "Below is the code for editing the image and generating 3 images as output."
   ]
  },
  {
   "cell_type": "code",
   "execution_count": 18,
   "id": "0531d591",
   "metadata": {},
   "outputs": [
    {
     "ename": "InvalidRequestError",
     "evalue": "Invalid input image - format must be in ['RGBA', 'LA', 'L'], got RGB.",
     "output_type": "error",
     "traceback": [
      "\u001b[1;31m---------------------------------------------------------------------------\u001b[0m",
      "\u001b[1;31mInvalidRequestError\u001b[0m                       Traceback (most recent call last)",
      "Cell \u001b[1;32mIn[18], line 2\u001b[0m\n\u001b[0;32m      1\u001b[0m \u001b[38;5;66;03m# using create_edit endpoint of the DALL - E API\u001b[39;00m\n\u001b[1;32m----> 2\u001b[0m response \u001b[38;5;241m=\u001b[39m \u001b[43mopenai\u001b[49m\u001b[38;5;241;43m.\u001b[39;49m\u001b[43mImage\u001b[49m\u001b[38;5;241;43m.\u001b[39;49m\u001b[43mcreate_edit\u001b[49m\u001b[43m(\u001b[49m\n\u001b[0;32m      3\u001b[0m \u001b[38;5;66;43;03m# opening original image in read mode\u001b[39;49;00m\n\u001b[0;32m      4\u001b[0m \u001b[43mimage\u001b[49m\u001b[38;5;241;43m=\u001b[39;49m\u001b[38;5;28;43mopen\u001b[39;49m\u001b[43m(\u001b[49m\u001b[38;5;124;43m\"\u001b[39;49m\u001b[38;5;124;43mimg_rgba.png\u001b[39;49m\u001b[38;5;124;43m\"\u001b[39;49m\u001b[43m,\u001b[49m\u001b[43m \u001b[49m\u001b[38;5;124;43m\"\u001b[39;49m\u001b[38;5;124;43mrb\u001b[39;49m\u001b[38;5;124;43m\"\u001b[39;49m\u001b[43m)\u001b[49m\u001b[43m,\u001b[49m\n\u001b[0;32m      5\u001b[0m \u001b[38;5;66;43;03m# opening mask image in read mode\u001b[39;49;00m\n\u001b[0;32m      6\u001b[0m \u001b[43mmask\u001b[49m\u001b[38;5;241;43m=\u001b[39;49m\u001b[38;5;28;43mopen\u001b[39;49m\u001b[43m(\u001b[49m\u001b[38;5;124;43m\"\u001b[39;49m\u001b[38;5;124;43mmask.png\u001b[39;49m\u001b[38;5;124;43m\"\u001b[39;49m\u001b[43m,\u001b[49m\u001b[43m \u001b[49m\u001b[38;5;124;43m\"\u001b[39;49m\u001b[38;5;124;43mrb\u001b[39;49m\u001b[38;5;124;43m\"\u001b[39;49m\u001b[43m)\u001b[49m\u001b[43m,\u001b[49m\n\u001b[0;32m      7\u001b[0m \u001b[38;5;66;43;03m# text prompt describing the new image\u001b[39;49;00m\n\u001b[0;32m      8\u001b[0m \u001b[43mprompt\u001b[49m\u001b[38;5;241;43m=\u001b[39;49m\u001b[38;5;124;43m\"\u001b[39;49m\u001b[38;5;124;43mgotham city skyline behind batman\u001b[39;49m\u001b[38;5;124;43m\"\u001b[39;49m\u001b[43m,\u001b[49m\n\u001b[0;32m      9\u001b[0m \u001b[38;5;66;43;03m# number of images to be generated\u001b[39;49;00m\n\u001b[0;32m     10\u001b[0m \u001b[43mn\u001b[49m\u001b[38;5;241;43m=\u001b[39;49m\u001b[38;5;241;43m1\u001b[39;49m\u001b[43m,\u001b[49m\n\u001b[0;32m     11\u001b[0m \u001b[38;5;66;43;03m#size of each image generated in pixels\u001b[39;49;00m\n\u001b[0;32m     12\u001b[0m \u001b[43msize\u001b[49m\u001b[38;5;241;43m=\u001b[39;49m\u001b[38;5;124;43m\"\u001b[39;49m\u001b[38;5;124;43m256x256\u001b[39;49m\u001b[38;5;124;43m\"\u001b[39;49m\n\u001b[0;32m     13\u001b[0m \u001b[43m)\u001b[49m\n\u001b[0;32m     15\u001b[0m \u001b[38;5;66;03m# saving the URLs of all image in new variable \"res\"\u001b[39;00m\n\u001b[0;32m     16\u001b[0m res \u001b[38;5;241m=\u001b[39m response[\u001b[38;5;124m'\u001b[39m\u001b[38;5;124mdata\u001b[39m\u001b[38;5;124m'\u001b[39m]\n",
      "File \u001b[1;32m~\\Anaconda3\\lib\\site-packages\\openai\\api_resources\\image.py:237\u001b[0m, in \u001b[0;36mImage.create_edit\u001b[1;34m(cls, image, mask, api_key, api_base, api_type, api_version, organization, **params)\u001b[0m\n\u001b[0;32m    224\u001b[0m     \u001b[38;5;28;01mraise\u001b[39;00m error\u001b[38;5;241m.\u001b[39mInvalidAPIType(\u001b[38;5;124m\"\u001b[39m\u001b[38;5;124mEdits are not supported by the Azure OpenAI API yet.\u001b[39m\u001b[38;5;124m\"\u001b[39m)\n\u001b[0;32m    226\u001b[0m requestor, url, files \u001b[38;5;241m=\u001b[39m \u001b[38;5;28mcls\u001b[39m\u001b[38;5;241m.\u001b[39m_prepare_create_edit(\n\u001b[0;32m    227\u001b[0m     image,\n\u001b[0;32m    228\u001b[0m     mask,\n\u001b[1;32m   (...)\u001b[0m\n\u001b[0;32m    234\u001b[0m     \u001b[38;5;241m*\u001b[39m\u001b[38;5;241m*\u001b[39mparams,\n\u001b[0;32m    235\u001b[0m )\n\u001b[1;32m--> 237\u001b[0m response, _, api_key \u001b[38;5;241m=\u001b[39m \u001b[43mrequestor\u001b[49m\u001b[38;5;241;43m.\u001b[39;49m\u001b[43mrequest\u001b[49m\u001b[43m(\u001b[49m\u001b[38;5;124;43m\"\u001b[39;49m\u001b[38;5;124;43mpost\u001b[39;49m\u001b[38;5;124;43m\"\u001b[39;49m\u001b[43m,\u001b[49m\u001b[43m \u001b[49m\u001b[43murl\u001b[49m\u001b[43m,\u001b[49m\u001b[43m \u001b[49m\u001b[43mfiles\u001b[49m\u001b[38;5;241;43m=\u001b[39;49m\u001b[43mfiles\u001b[49m\u001b[43m)\u001b[49m\n\u001b[0;32m    239\u001b[0m \u001b[38;5;28;01mreturn\u001b[39;00m util\u001b[38;5;241m.\u001b[39mconvert_to_openai_object(\n\u001b[0;32m    240\u001b[0m     response, api_key, api_version, organization\n\u001b[0;32m    241\u001b[0m )\n",
      "File \u001b[1;32m~\\Anaconda3\\lib\\site-packages\\openai\\api_requestor.py:298\u001b[0m, in \u001b[0;36mAPIRequestor.request\u001b[1;34m(self, method, url, params, headers, files, stream, request_id, request_timeout)\u001b[0m\n\u001b[0;32m    277\u001b[0m \u001b[38;5;28;01mdef\u001b[39;00m \u001b[38;5;21mrequest\u001b[39m(\n\u001b[0;32m    278\u001b[0m     \u001b[38;5;28mself\u001b[39m,\n\u001b[0;32m    279\u001b[0m     method,\n\u001b[1;32m   (...)\u001b[0m\n\u001b[0;32m    286\u001b[0m     request_timeout: Optional[Union[\u001b[38;5;28mfloat\u001b[39m, Tuple[\u001b[38;5;28mfloat\u001b[39m, \u001b[38;5;28mfloat\u001b[39m]]] \u001b[38;5;241m=\u001b[39m \u001b[38;5;28;01mNone\u001b[39;00m,\n\u001b[0;32m    287\u001b[0m ) \u001b[38;5;241m-\u001b[39m\u001b[38;5;241m>\u001b[39m Tuple[Union[OpenAIResponse, Iterator[OpenAIResponse]], \u001b[38;5;28mbool\u001b[39m, \u001b[38;5;28mstr\u001b[39m]:\n\u001b[0;32m    288\u001b[0m     result \u001b[38;5;241m=\u001b[39m \u001b[38;5;28mself\u001b[39m\u001b[38;5;241m.\u001b[39mrequest_raw(\n\u001b[0;32m    289\u001b[0m         method\u001b[38;5;241m.\u001b[39mlower(),\n\u001b[0;32m    290\u001b[0m         url,\n\u001b[1;32m   (...)\u001b[0m\n\u001b[0;32m    296\u001b[0m         request_timeout\u001b[38;5;241m=\u001b[39mrequest_timeout,\n\u001b[0;32m    297\u001b[0m     )\n\u001b[1;32m--> 298\u001b[0m     resp, got_stream \u001b[38;5;241m=\u001b[39m \u001b[38;5;28;43mself\u001b[39;49m\u001b[38;5;241;43m.\u001b[39;49m\u001b[43m_interpret_response\u001b[49m\u001b[43m(\u001b[49m\u001b[43mresult\u001b[49m\u001b[43m,\u001b[49m\u001b[43m \u001b[49m\u001b[43mstream\u001b[49m\u001b[43m)\u001b[49m\n\u001b[0;32m    299\u001b[0m     \u001b[38;5;28;01mreturn\u001b[39;00m resp, got_stream, \u001b[38;5;28mself\u001b[39m\u001b[38;5;241m.\u001b[39mapi_key\n",
      "File \u001b[1;32m~\\Anaconda3\\lib\\site-packages\\openai\\api_requestor.py:700\u001b[0m, in \u001b[0;36mAPIRequestor._interpret_response\u001b[1;34m(self, result, stream)\u001b[0m\n\u001b[0;32m    692\u001b[0m     \u001b[38;5;28;01mreturn\u001b[39;00m (\n\u001b[0;32m    693\u001b[0m         \u001b[38;5;28mself\u001b[39m\u001b[38;5;241m.\u001b[39m_interpret_response_line(\n\u001b[0;32m    694\u001b[0m             line, result\u001b[38;5;241m.\u001b[39mstatus_code, result\u001b[38;5;241m.\u001b[39mheaders, stream\u001b[38;5;241m=\u001b[39m\u001b[38;5;28;01mTrue\u001b[39;00m\n\u001b[0;32m    695\u001b[0m         )\n\u001b[0;32m    696\u001b[0m         \u001b[38;5;28;01mfor\u001b[39;00m line \u001b[38;5;129;01min\u001b[39;00m parse_stream(result\u001b[38;5;241m.\u001b[39miter_lines())\n\u001b[0;32m    697\u001b[0m     ), \u001b[38;5;28;01mTrue\u001b[39;00m\n\u001b[0;32m    698\u001b[0m \u001b[38;5;28;01melse\u001b[39;00m:\n\u001b[0;32m    699\u001b[0m     \u001b[38;5;28;01mreturn\u001b[39;00m (\n\u001b[1;32m--> 700\u001b[0m         \u001b[38;5;28;43mself\u001b[39;49m\u001b[38;5;241;43m.\u001b[39;49m\u001b[43m_interpret_response_line\u001b[49m\u001b[43m(\u001b[49m\n\u001b[0;32m    701\u001b[0m \u001b[43m            \u001b[49m\u001b[43mresult\u001b[49m\u001b[38;5;241;43m.\u001b[39;49m\u001b[43mcontent\u001b[49m\u001b[38;5;241;43m.\u001b[39;49m\u001b[43mdecode\u001b[49m\u001b[43m(\u001b[49m\u001b[38;5;124;43m\"\u001b[39;49m\u001b[38;5;124;43mutf-8\u001b[39;49m\u001b[38;5;124;43m\"\u001b[39;49m\u001b[43m)\u001b[49m\u001b[43m,\u001b[49m\n\u001b[0;32m    702\u001b[0m \u001b[43m            \u001b[49m\u001b[43mresult\u001b[49m\u001b[38;5;241;43m.\u001b[39;49m\u001b[43mstatus_code\u001b[49m\u001b[43m,\u001b[49m\n\u001b[0;32m    703\u001b[0m \u001b[43m            \u001b[49m\u001b[43mresult\u001b[49m\u001b[38;5;241;43m.\u001b[39;49m\u001b[43mheaders\u001b[49m\u001b[43m,\u001b[49m\n\u001b[0;32m    704\u001b[0m \u001b[43m            \u001b[49m\u001b[43mstream\u001b[49m\u001b[38;5;241;43m=\u001b[39;49m\u001b[38;5;28;43;01mFalse\u001b[39;49;00m\u001b[43m,\u001b[49m\n\u001b[0;32m    705\u001b[0m \u001b[43m        \u001b[49m\u001b[43m)\u001b[49m,\n\u001b[0;32m    706\u001b[0m         \u001b[38;5;28;01mFalse\u001b[39;00m,\n\u001b[0;32m    707\u001b[0m     )\n",
      "File \u001b[1;32m~\\Anaconda3\\lib\\site-packages\\openai\\api_requestor.py:763\u001b[0m, in \u001b[0;36mAPIRequestor._interpret_response_line\u001b[1;34m(self, rbody, rcode, rheaders, stream)\u001b[0m\n\u001b[0;32m    761\u001b[0m stream_error \u001b[38;5;241m=\u001b[39m stream \u001b[38;5;129;01mand\u001b[39;00m \u001b[38;5;124m\"\u001b[39m\u001b[38;5;124merror\u001b[39m\u001b[38;5;124m\"\u001b[39m \u001b[38;5;129;01min\u001b[39;00m resp\u001b[38;5;241m.\u001b[39mdata\n\u001b[0;32m    762\u001b[0m \u001b[38;5;28;01mif\u001b[39;00m stream_error \u001b[38;5;129;01mor\u001b[39;00m \u001b[38;5;129;01mnot\u001b[39;00m \u001b[38;5;241m200\u001b[39m \u001b[38;5;241m<\u001b[39m\u001b[38;5;241m=\u001b[39m rcode \u001b[38;5;241m<\u001b[39m \u001b[38;5;241m300\u001b[39m:\n\u001b[1;32m--> 763\u001b[0m     \u001b[38;5;28;01mraise\u001b[39;00m \u001b[38;5;28mself\u001b[39m\u001b[38;5;241m.\u001b[39mhandle_error_response(\n\u001b[0;32m    764\u001b[0m         rbody, rcode, resp\u001b[38;5;241m.\u001b[39mdata, rheaders, stream_error\u001b[38;5;241m=\u001b[39mstream_error\n\u001b[0;32m    765\u001b[0m     )\n\u001b[0;32m    766\u001b[0m \u001b[38;5;28;01mreturn\u001b[39;00m resp\n",
      "\u001b[1;31mInvalidRequestError\u001b[0m: Invalid input image - format must be in ['RGBA', 'LA', 'L'], got RGB."
     ]
    }
   ],
   "source": [
    "# using create_edit endpoint of the DALL - E API\n",
    "response = openai.Image.create_edit(\n",
    "# opening original image in read mode\n",
    "image=open(\"img_rgba.png\", \"rb\"),\n",
    "# opening mask image in read mode\n",
    "mask=open(\"mask.png\", \"rb\"),\n",
    "# text prompt describing the new image\n",
    "prompt=\"gotham city skyline behind batman\",\n",
    "# number of images to be generated\n",
    "n=1,\n",
    "#size of each image generated in pixels\n",
    "size=\"256x256\"\n",
    ")\n",
    "\n",
    "# saving the URLs of all image in new variable \"res\"\n",
    "res = response['data']\n",
    "\n",
    "# loop to save and display images\n",
    "for i in range(len(res)):\n",
    "    # saving URL of image in res\n",
    "    image_url = res[i]['url']\n",
    "    # extracting image from URL in bytes form\n",
    "    response = requests.get(image_url, stream=True)\n",
    "    # opening the image\n",
    "    k = Image.open(response.raw)\n",
    "    # displaying the image\n",
    "    k.show()\n",
    "    # saving the image\n",
    "    with open(f\"img_mask_edit_{i}.png\", \"wb\") as f:\n",
    "        f.write(response.content)\n"
   ]
  },
  {
   "cell_type": "markdown",
   "id": "4736bd68",
   "metadata": {},
   "source": [
    "Audio\n",
    "There are 2 modules available for Whisper module:\n",
    "\n",
    "1. Transcribe: This module transcribes your audio file into the input language. Model parameters for this module are:\n",
    "\n",
    "file [required]: The audio file to transcribe, in one of these formats: mp3, mp4, mpeg, mpga, m4a, wav, or webm.\n",
    "model [required]: ID of the model to use. Only whisper-1 is currently available.\n",
    "prompt [optional]: An optional text to guide the model’s style or continue a previous audio segment. The prompt should match the audio language.\n",
    "response_format [optional]: The format of the transcript output, in one of these options: json, text, srt, verbose_json, or vtt.\n",
    "temperature [optional]: The sampling temperature, between 0 and 1. Higher values like 0.8 will make the output more random, while lower values like 0.2 will make it more focused and deterministic. If set to 0, the model will use log probability to automatically increase the temperature until certain thresholds are hit.\n",
    "language [optional]: The language of the input audio. Supplying the input language in ISO-639-1 format will improve accuracy and latency."
   ]
  },
  {
   "cell_type": "markdown",
   "id": "7b21bee6",
   "metadata": {},
   "source": [
    "https://drive.google.com/file/d/1jwPYV4-FbFZBKf4zFM43I7Mw-h0ibsnE/view?usp=sharing download audio from here"
   ]
  },
  {
   "cell_type": "markdown",
   "id": "b41d2198",
   "metadata": {},
   "source": [
    "# Examples for Audio Transcribing\n",
    "Audio we will be using for trying out Transcribe module:\n",
    "\n",
    "Audio Player\n",
    "\n",
    "00:00\n",
    "00:00\n",
    "\n",
    "Use Up/Down Arrow keys to increase or decrease volume.\n",
    "You can download the audio file from here.\n",
    "\n",
    "We will execute the below code for transcribing this audio."
   ]
  },
  {
   "cell_type": "code",
   "execution_count": 25,
   "id": "152013fd",
   "metadata": {},
   "outputs": [
    {
     "data": {
      "text/plain": [
       "'Hindi Hamari Matra Basha Hai. Sabhi Kehsa, Me Hindi and Navaria Honi Chahiye.'"
      ]
     },
     "execution_count": 25,
     "metadata": {},
     "output_type": "execute_result"
    }
   ],
   "source": [
    "# opening the audio file in read mode\n",
    "audio_file = open(\"Play.ht - Untitled.wav\", \"rb\")\n",
    "# transcribing the audio file using Whisper-1 model\n",
    "transcript = openai.Audio.transcribe(\"whisper-1\", audio_file)\n",
    "# printing the transcript\n",
    "transcript['text']\n"
   ]
  },
  {
   "cell_type": "markdown",
   "id": "98a499d6",
   "metadata": {},
   "source": [
    "# Examples for Audio Translation\n",
    "We will execute the below code for translating this audio."
   ]
  },
  {
   "cell_type": "code",
   "execution_count": 26,
   "id": "feed75e2",
   "metadata": {},
   "outputs": [
    {
     "data": {
      "text/plain": [
       "'Hindi is our mother tongue. We should learn Hindi and Navarra.'"
      ]
     },
     "execution_count": 26,
     "metadata": {},
     "output_type": "execute_result"
    }
   ],
   "source": [
    "# opening the audio file in read mode\n",
    "audio_file= open(\"Play.ht - Untitled.wav\", \"rb\")\n",
    "# the input audio is in hindi language\n",
    "# translate module translates the input audio in English language\n",
    "transcript = openai.Audio.translate(\"whisper-1\", audio_file)\n",
    "# print the translated transcript\n",
    "transcript['text']\n"
   ]
  },
  {
   "cell_type": "markdown",
   "id": "4868451d",
   "metadata": {},
   "source": [
    "Embeddings\n",
    "The embeddings module is used to obtain a vector representation of a given input that machine learning models and algorithms can quickly consume. We will write a function to generate these vectors using OpenAI API. Our API employs the “text-embedding-ada-002” model, a member of OpenAI’s second generation of embedding models. This model produces embeddings that are 1536 bytes long."
   ]
  },
  {
   "cell_type": "code",
   "execution_count": 27,
   "id": "084de10d",
   "metadata": {},
   "outputs": [],
   "source": [
    "# function to generate vector for a string\n",
    "def get_embedding(text, model=\"text-embedding-ada-002\"):\n",
    "    return openai.Embedding.create(input=text , model=model)['data'][0]['embedding']\n"
   ]
  },
  {
   "cell_type": "markdown",
   "id": "e7adf290",
   "metadata": {},
   "source": [
    "# Let’s try this out on some sample text.\n",
    "\n",
    "Prompt 1:|"
   ]
  },
  {
   "cell_type": "code",
   "execution_count": 28,
   "id": "4ad0d063",
   "metadata": {},
   "outputs": [
    {
     "data": {
      "text/plain": [
       "[0.0021052362862974405,\n",
       " -0.0069493865594267845,\n",
       " -0.0024455746170133352,\n",
       " -0.03487658500671387,\n",
       " -0.010709315538406372,\n",
       " 0.01784021593630314,\n",
       " -0.0037631706800311804,\n",
       " -0.009503545239567757,\n",
       " -0.020951882004737854,\n",
       " -0.0007053919252939522,\n",
       " 0.040685027837753296,\n",
       " -0.011513163335621357,\n",
       " 0.013600572012364864,\n",
       " -0.0013103029923513532,\n",
       " -0.010903795249760151,\n",
       " -0.010586146265268326,\n",
       " 0.020783333107829094,\n",
       " -0.011234409175813198,\n",
       " 0.019888728857040405,\n",
       " -0.015558328479528427,\n",
       " -0.009736920706927776,\n",
       " -0.0034455214627087116,\n",
       " 0.021664971485733986,\n",
       " -0.018605167046189308,\n",
       " -0.003646483179181814,\n",
       " 0.00081154506187886,\n",
       " 0.005532930605113506,\n",
       " -0.012893964536488056,\n",
       " 0.0073902057483792305,\n",
       " -0.00413916353136301,\n",
       " 0.020070243626832962,\n",
       " -0.004155369941145182,\n",
       " -0.0010007570963352919,\n",
       " -0.02135380543768406,\n",
       " -0.033398546278476715,\n",
       " -0.00416185287758708,\n",
       " 0.018268071115016937,\n",
       " 0.0005554809467867017,\n",
       " 0.024245060980319977,\n",
       " -0.022339167073369026,\n",
       " 0.026630671694874763,\n",
       " -0.007895851507782936,\n",
       " -0.007280000951141119,\n",
       " -0.015532397665083408,\n",
       " -0.0097434027120471,\n",
       " 0.02219654805958271,\n",
       " -0.0018410688498988748,\n",
       " -0.03054618462920189,\n",
       " -0.004680463578552008,\n",
       " 0.013613536953926086,\n",
       " 0.0011085309088230133,\n",
       " 0.012122530490159988,\n",
       " -0.036743585020303726,\n",
       " -0.01838475838303566,\n",
       " -0.01249852403998375,\n",
       " -0.01627141796052456,\n",
       " -0.004829564597457647,\n",
       " 0.023791277781128883,\n",
       " -0.0028604634571820498,\n",
       " -0.02368755452334881,\n",
       " -0.01817731373012066,\n",
       " -0.008006056770682335,\n",
       " -0.008395014330744743,\n",
       " 0.004200748633593321,\n",
       " -0.009419270791113377,\n",
       " 0.009471132420003414,\n",
       " 0.000657177297398448,\n",
       " -0.0035816568415611982,\n",
       " -0.030442461371421814,\n",
       " -0.026501018553972244,\n",
       " 0.02385610342025757,\n",
       " 0.02075740322470665,\n",
       " -0.005267142318189144,\n",
       " 0.012589280493557453,\n",
       " 0.004738807678222656,\n",
       " -0.0008054676000028849,\n",
       " 0.0010882726637646556,\n",
       " -0.007675441913306713,\n",
       " 0.006090437062084675,\n",
       " 0.0017956903902813792,\n",
       " 0.014184009283781052,\n",
       " -0.03798825293779373,\n",
       " -0.009970295242965221,\n",
       " 0.013509814627468586,\n",
       " 0.009322031401097775,\n",
       " 0.020018381997942924,\n",
       " 0.015454606153070927,\n",
       " 0.020303618162870407,\n",
       " -0.02714928239583969,\n",
       " -0.015662049874663353,\n",
       " -0.014093251898884773,\n",
       " 0.01902005635201931,\n",
       " 0.03150561451911926,\n",
       " 0.018747786059975624,\n",
       " 0.0029593235813081264,\n",
       " 0.04387448728084564,\n",
       " 0.026021303609013557,\n",
       " 0.01084545161575079,\n",
       " 0.013075478374958038,\n",
       " -0.02512669935822487,\n",
       " -0.0012543902266770601,\n",
       " 0.015208265744149685,\n",
       " -0.02432285249233246,\n",
       " -0.006450223736464977,\n",
       " -0.014715585857629776,\n",
       " -0.007967161014676094,\n",
       " 0.01851441152393818,\n",
       " -0.019966520369052887,\n",
       " 0.04156666621565819,\n",
       " -0.022105790674686432,\n",
       " -0.006573393475264311,\n",
       " 0.010955655947327614,\n",
       " 0.015726877376437187,\n",
       " -0.01965535432100296,\n",
       " -0.008758042007684708,\n",
       " -0.006336777471005917,\n",
       " 0.011338131502270699,\n",
       " 0.006819733884185553,\n",
       " -0.029586754739284515,\n",
       " -0.0076884073205292225,\n",
       " 0.007902334444224834,\n",
       " -0.00024006013700272888,\n",
       " 0.021976139396429062,\n",
       " -0.011681711301207542,\n",
       " 0.019007090479135513,\n",
       " 0.009516511112451553,\n",
       " -0.021120430901646614,\n",
       " -0.016828924417495728,\n",
       " 0.018501445651054382,\n",
       " -0.013509814627468586,\n",
       " 0.017140092328190804,\n",
       " 0.007260553073137999,\n",
       " 0.034798793494701385,\n",
       " 0.010119396261870861,\n",
       " -0.02253364585340023,\n",
       " -0.004421158228069544,\n",
       " -0.0015080233570188284,\n",
       " 0.03109072521328926,\n",
       " -0.014430349692702293,\n",
       " -0.0131338220089674,\n",
       " 0.014339592307806015,\n",
       " 0.020485132932662964,\n",
       " 0.006035334896296263,\n",
       " -0.009471132420003414,\n",
       " -0.02639729715883732,\n",
       " 0.03083142079412937,\n",
       " 0.019564596936106682,\n",
       " -0.012394801713526249,\n",
       " 0.011765985749661922,\n",
       " 0.009594302624464035,\n",
       " 0.0007730544311925769,\n",
       " -0.011681711301207542,\n",
       " 0.0038442036602646112,\n",
       " 0.013743190094828606,\n",
       " 0.010819520801305771,\n",
       " 0.01638810522854328,\n",
       " -0.016919681802392006,\n",
       " 0.009095139801502228,\n",
       " -0.020614784210920334,\n",
       " -0.010962138883769512,\n",
       " 0.006787320598959923,\n",
       " 0.008699698373675346,\n",
       " 0.00927665363997221,\n",
       " -0.01009994838386774,\n",
       " 0.00499811302870512,\n",
       " 0.03298365697264671,\n",
       " 0.02961268462240696,\n",
       " -0.004826323129236698,\n",
       " -0.020900020375847816,\n",
       " 0.015532397665083408,\n",
       " -0.0028734286315739155,\n",
       " 0.03583601489663124,\n",
       " -0.019642390310764313,\n",
       " 0.008291292004287243,\n",
       " -0.0038442036602646112,\n",
       " 0.009017347358167171,\n",
       " -0.010035121813416481,\n",
       " -0.006336777471005917,\n",
       " -0.013244027271866798,\n",
       " -0.00670304661616683,\n",
       " -0.0019058951875194907,\n",
       " 0.003973856568336487,\n",
       " 0.011389993131160736,\n",
       " 0.02537303976714611,\n",
       " 0.008518184535205364,\n",
       " -0.0024698846973478794,\n",
       " 0.007792129181325436,\n",
       " -0.010028638876974583,\n",
       " 0.010197187773883343,\n",
       " -0.019499771296977997,\n",
       " 0.011402958072721958,\n",
       " 0.012693002820014954,\n",
       " -0.0036951028741896152,\n",
       " -0.01927936263382435,\n",
       " -0.6625773310661316,\n",
       " -0.020238792523741722,\n",
       " 0.004505432676523924,\n",
       " -0.01737346686422825,\n",
       " -0.011720607057213783,\n",
       " 0.011020482517778873,\n",
       " 0.008881212212145329,\n",
       " 0.03772894665598869,\n",
       " -0.009717472828924656,\n",
       " 0.0021327876020222902,\n",
       " 0.004849012475460768,\n",
       " 0.020562924444675446,\n",
       " 0.0024504365865141153,\n",
       " -0.0015777117805555463,\n",
       " -0.01618066057562828,\n",
       " -0.028368018567562103,\n",
       " -0.016491828486323357,\n",
       " -0.00652477378025651,\n",
       " 0.01771056279540062,\n",
       " -0.003873375477269292,\n",
       " -0.01982390321791172,\n",
       " 0.011850260198116302,\n",
       " -0.009490580298006535,\n",
       " -0.0027502586599439383,\n",
       " 0.019875764846801758,\n",
       " 0.01554536260664463,\n",
       " 0.014417383819818497,\n",
       " -0.01467668917030096,\n",
       " -0.003186215879395604,\n",
       " 0.013561676256358624,\n",
       " -0.032387252897024155,\n",
       " -0.00019063003128394485,\n",
       " 0.0008962245192378759,\n",
       " -0.0018605167279019952,\n",
       " 0.03931070864200592,\n",
       " -0.0015064027393236756,\n",
       " -0.020446237176656723,\n",
       " 0.02193724364042282,\n",
       " -0.0015825737500563264,\n",
       " 0.03521368280053139,\n",
       " -0.014572967775166035,\n",
       " -0.019473841413855553,\n",
       " 0.006518291309475899,\n",
       " -0.014158078469336033,\n",
       " -0.02563234604895115,\n",
       " 0.001407542498782277,\n",
       " 0.014054356142878532,\n",
       " -0.0008131657377816737,\n",
       " -0.008570046164095402,\n",
       " 0.007429101504385471,\n",
       " 0.009548923932015896,\n",
       " -0.002972288988530636,\n",
       " -0.011960464529693127,\n",
       " 0.011137169785797596,\n",
       " 0.01918860524892807,\n",
       " -0.008790455758571625,\n",
       " 0.020653679966926575,\n",
       " 0.008271844126284122,\n",
       " 0.008952521719038486,\n",
       " 0.0069493865594267845,\n",
       " 0.006664150394499302,\n",
       " 0.02841988019645214,\n",
       " -0.03002757392823696,\n",
       " -0.01728270947933197,\n",
       " -0.034798793494701385,\n",
       " -0.01340609323233366,\n",
       " -0.01864406280219555,\n",
       " -0.016245488077402115,\n",
       " -0.011571506969630718,\n",
       " -0.0027470174245536327,\n",
       " 0.03578415513038635,\n",
       " 0.0032315943390130997,\n",
       " -0.01080007292330265,\n",
       " 0.03189457207918167,\n",
       " 0.007707855198532343,\n",
       " 0.030649906024336815,\n",
       " 0.008751560002565384,\n",
       " -0.0034455214627087116,\n",
       " 0.007792129181325436,\n",
       " -0.004819840658456087,\n",
       " 0.010981586761772633,\n",
       " -0.0006109885289333761,\n",
       " 0.0020323065109550953,\n",
       " 0.0036432419437915087,\n",
       " -0.0004683705046772957,\n",
       " -0.03822162747383118,\n",
       " -0.03287993371486664,\n",
       " 0.000303063279716298,\n",
       " 0.020186930894851685,\n",
       " 0.005432449746876955,\n",
       " 0.02008320949971676,\n",
       " 0.004061372019350529,\n",
       " 0.009510028176009655,\n",
       " -0.007202209439128637,\n",
       " -0.0022332684602588415,\n",
       " 0.01911081373691559,\n",
       " -0.009782298468053341,\n",
       " 0.022844811901450157,\n",
       " 0.014728550799190998,\n",
       " -0.01131220068782568,\n",
       " 0.0031440788879990578,\n",
       " -0.030987003818154335,\n",
       " 0.03360598906874657,\n",
       " -0.004800392314791679,\n",
       " 0.012109565548598766,\n",
       " 0.008647837676107883,\n",
       " -0.0133412666618824,\n",
       " 0.03054618462920189,\n",
       " 0.01614176481962204,\n",
       " -0.0012430455535650253,\n",
       " -0.0025071597192436457,\n",
       " -0.029975712299346924,\n",
       " -0.026034269481897354,\n",
       " -0.0020031346939504147,\n",
       " -0.0019869282841682434,\n",
       " -0.02740858867764473,\n",
       " 0.011266822926700115,\n",
       " 0.017684632912278175,\n",
       " -0.004447089042514563,\n",
       " 0.0035168305039405823,\n",
       " -0.009017347358167171,\n",
       " 0.011539093218743801,\n",
       " 0.017801320180296898,\n",
       " 0.0039025472942739725,\n",
       " 0.014715585857629776,\n",
       " -0.011577988974750042,\n",
       " -0.005169902928173542,\n",
       " -0.010832485742866993,\n",
       " -0.04257795959711075,\n",
       " 0.004259092267602682,\n",
       " -0.005163419991731644,\n",
       " -0.020264722406864166,\n",
       " -0.007902334444224834,\n",
       " -0.014780411496758461,\n",
       " 0.004294747021049261,\n",
       " 0.017334571108222008,\n",
       " 0.006333536002784967,\n",
       " -0.02354493737220764,\n",
       " 0.013652432709932327,\n",
       " -0.009490580298006535,\n",
       " -0.009283135645091534,\n",
       " -0.01905895210802555,\n",
       " 0.011928051710128784,\n",
       " 0.01173357293009758,\n",
       " -0.00648263655602932,\n",
       " 0.01507861353456974,\n",
       " -0.024958152323961258,\n",
       " -0.02313004806637764,\n",
       " -0.019629424437880516,\n",
       " 0.005468104034662247,\n",
       " 0.0076948897913098335,\n",
       " 0.004868460353463888,\n",
       " -0.003332075197249651,\n",
       " 0.003685378935188055,\n",
       " 0.020303618162870407,\n",
       " -0.023155977949500084,\n",
       " -0.00962023250758648,\n",
       " -0.028445810079574585,\n",
       " -0.006087196059525013,\n",
       " 2.3708471417194232e-06,\n",
       " -0.007234622724354267,\n",
       " -0.018903369084000587,\n",
       " -0.009600784629583359,\n",
       " 0.0020533751230686903,\n",
       " -0.00830425787717104,\n",
       " -0.0012000980786979198,\n",
       " 0.007072556763887405,\n",
       " 0.034461695700883865,\n",
       " -0.01431366242468357,\n",
       " -0.02834208868443966,\n",
       " 0.005685272626578808,\n",
       " -0.007591167464852333,\n",
       " -0.02460808865725994,\n",
       " -0.016751132905483246,\n",
       " -0.016038043424487114,\n",
       " 0.0023094392381608486,\n",
       " -0.0017049334710463881,\n",
       " -0.0035913807805627584,\n",
       " -0.014456279575824738,\n",
       " -0.023882033303380013,\n",
       " -0.007357792928814888,\n",
       " 0.014508141204714775,\n",
       " -0.0016174179036170244,\n",
       " 0.011227927170693874,\n",
       " 0.04343366622924805,\n",
       " 0.0012616831809282303,\n",
       " 0.042681679129600525,\n",
       " 0.02130194380879402,\n",
       " -0.0069429040886461735,\n",
       " -0.0012000980786979198,\n",
       " 0.0031440788879990578,\n",
       " 0.025904616340994835,\n",
       " -0.03287993371486664,\n",
       " -0.015156405046582222,\n",
       " 0.0351618230342865,\n",
       " 0.012906929478049278,\n",
       " 0.015519432723522186,\n",
       " -0.011227927170693874,\n",
       " 0.010249048471450806,\n",
       " 0.014430349692702293,\n",
       " 0.01627141796052456,\n",
       " 0.0004724221653304994,\n",
       " 0.01387284230440855,\n",
       " -0.011130687780678272,\n",
       " 0.02130194380879402,\n",
       " -0.03243911266326904,\n",
       " 0.016427000984549522,\n",
       " -0.032465044409036636,\n",
       " 0.021509388461709023,\n",
       " 0.01484523806720972,\n",
       " 0.007176279090344906,\n",
       " -0.008466323837637901,\n",
       " 0.011150135658681393,\n",
       " 0.002644915832206607,\n",
       " 0.01400249544531107,\n",
       " 0.0059769912622869015,\n",
       " -0.0230911523103714,\n",
       " 0.02888662926852703,\n",
       " -0.008712664246559143,\n",
       " -0.009419270791113377,\n",
       " 0.009140517562627792,\n",
       " 0.01909784786403179,\n",
       " 0.019460875540971756,\n",
       " 0.008168122731149197,\n",
       " -0.008498736657202244,\n",
       " 0.019914660602808,\n",
       " 0.02507483959197998,\n",
       " 0.03404681012034416,\n",
       " 0.0003966563381254673,\n",
       " -0.026967769488692284,\n",
       " -0.002998219570145011,\n",
       " 0.0006365138688124716,\n",
       " -0.008965486660599709,\n",
       " 0.029094073921442032,\n",
       " -0.002460160758346319,\n",
       " -0.009471132420003414,\n",
       " 0.008122744038701057,\n",
       " -0.025904616340994835,\n",
       " 0.040347930043935776,\n",
       " -0.005442173685878515,\n",
       " -0.025398971512913704,\n",
       " 0.018968194723129272,\n",
       " 0.023830173537135124,\n",
       " -0.028056852519512177,\n",
       " 0.010125878266990185,\n",
       " 0.01838475838303566,\n",
       " 0.015895426273345947,\n",
       " 0.011364062316715717,\n",
       " -0.02223544381558895,\n",
       " 0.03796232119202614,\n",
       " -0.01855330727994442,\n",
       " -0.014858203008770943,\n",
       " 0.006262226961553097,\n",
       " 0.004845771007239819,\n",
       " 0.022974465042352676,\n",
       " 0.0010574801126495004,\n",
       " 0.010125878266990185,\n",
       " 0.0038506861310452223,\n",
       " 0.018734820187091827,\n",
       " 0.011389993131160736,\n",
       " -0.012913412414491177,\n",
       " 0.0038636515382677317,\n",
       " 0.026488054543733597,\n",
       " -0.012777277268469334,\n",
       " -0.009205344133079052,\n",
       " 0.007234622724354267,\n",
       " -0.00659608282148838,\n",
       " 0.006035334896296263,\n",
       " -0.009821195155382156,\n",
       " -0.002306198002770543,\n",
       " -0.0025298490654677153,\n",
       " -0.020472167059779167,\n",
       " 0.0010469458065927029,\n",
       " 0.015389779582619667,\n",
       " -0.003153802827000618,\n",
       " 0.010462976060807705,\n",
       " 0.012375353835523129,\n",
       " 0.0016725203022360802,\n",
       " -0.002800499089062214,\n",
       " 0.019292326644062996,\n",
       " -0.0031910778488963842,\n",
       " -0.026539914309978485,\n",
       " 0.01340609323233366,\n",
       " 0.003111665602773428,\n",
       " 0.004573500249534845,\n",
       " 1.7675314666121267e-05,\n",
       " 0.0009391719941049814,\n",
       " -0.006181193981319666,\n",
       " 0.003727516159415245,\n",
       " 0.006975317373871803,\n",
       " -0.020135069265961647,\n",
       " 0.0432002916932106,\n",
       " -0.01387284230440855,\n",
       " -0.004622119944542646,\n",
       " -0.006592841818928719,\n",
       " -0.0059413365088403225,\n",
       " 0.003934960346668959,\n",
       " -0.0034325560554862022,\n",
       " -0.012336458079516888,\n",
       " 0.014767446555197239,\n",
       " -0.009646163322031498,\n",
       " -0.007234622724354267,\n",
       " -0.010424080304801464,\n",
       " -0.02558048442006111,\n",
       " 0.0077013722620904446,\n",
       " -0.004476260859519243,\n",
       " 0.007493928074836731,\n",
       " -0.027356727048754692,\n",
       " -0.016958577558398247,\n",
       " -0.04019234701991081,\n",
       " -0.0038053076714277267,\n",
       " 0.012057703919708729,\n",
       " -0.00931554939597845,\n",
       " -0.002596296137198806,\n",
       " -0.004440606106072664,\n",
       " -0.006132574286311865,\n",
       " -0.010981586761772633,\n",
       " -0.017723528668284416,\n",
       " 0.02740858867764473,\n",
       " 0.01703636907041073,\n",
       " 0.015519432723522186,\n",
       " -0.015817632898688316,\n",
       " -0.025347109884023666,\n",
       " -0.0002479608519934118,\n",
       " 0.10434452444314957,\n",
       " 0.032127946615219116,\n",
       " 0.006709529086947441,\n",
       " 0.00919237919151783,\n",
       " 0.01400249544531107,\n",
       " -0.00051901611732319,\n",
       " -0.028782907873392105,\n",
       " -0.028705116361379623,\n",
       " 0.0011814605677500367,\n",
       " -0.01694561168551445,\n",
       " 0.003024150151759386,\n",
       " 0.013885808177292347,\n",
       " 0.007519858423620462,\n",
       " 0.013808016665279865,\n",
       " 0.013419058173894882,\n",
       " 0.012394801713526249,\n",
       " 0.0012592521961778402,\n",
       " 0.0002366162370890379,\n",
       " 0.0018410688498988748,\n",
       " -0.01656961999833584,\n",
       " -0.003866892773658037,\n",
       " 0.001606883597560227,\n",
       " -0.01084545161575079,\n",
       " -0.009879538789391518,\n",
       " 0.009717472828924656,\n",
       " 0.02131490968167782,\n",
       " 0.019344188272953033,\n",
       " 0.007221657317131758,\n",
       " -0.013561676256358624,\n",
       " -0.01554536260664463,\n",
       " -0.020122105255723,\n",
       " 0.0006304364069364965,\n",
       " 0.00502080237492919,\n",
       " -0.0044503300450742245,\n",
       " 0.004900873173028231,\n",
       " 0.021509388461709023,\n",
       " -0.020096173509955406,\n",
       " 0.028264297172427177,\n",
       " 0.006061265245079994,\n",
       " -0.009218309074640274,\n",
       " 0.008595976047217846,\n",
       " 0.014935995452105999,\n",
       " 0.007267036009579897,\n",
       " -0.02406354807317257,\n",
       " 0.019927624613046646,\n",
       " 0.000880017934832722,\n",
       " 0.002020962070673704,\n",
       " 0.04537845775485039,\n",
       " 0.009775816462934017,\n",
       " -0.01939604990184307,\n",
       " 0.02563234604895115,\n",
       " -0.007221657317131758,\n",
       " -0.019888728857040405,\n",
       " -0.020122105255723,\n",
       " 0.008168122731149197,\n",
       " -0.0012730277376249433,\n",
       " -0.00486197741702199,\n",
       " -0.016401071101427078,\n",
       " -0.010022156871855259,\n",
       " -0.009756368584930897,\n",
       " -0.010456493124365807,\n",
       " -0.00485225347802043,\n",
       " 0.013665398582816124,\n",
       " 0.010404632426798344,\n",
       " -0.020135069265961647,\n",
       " -0.04226679354906082,\n",
       " -0.0018037937115877867,\n",
       " 0.002226785756647587,\n",
       " -0.012893964536488056,\n",
       " -0.005818166304379702,\n",
       " 0.004884666763246059,\n",
       " -0.030649906024336815,\n",
       " -0.02720114402472973,\n",
       " 0.0005072663188911974,\n",
       " 0.02529524825513363,\n",
       " 0.009438718669116497,\n",
       " 0.016115834936499596,\n",
       " 0.010534284636378288,\n",
       " -0.008868247270584106,\n",
       " 0.006780838128179312,\n",
       " 0.0016571240266785026,\n",
       " -0.03682137653231621,\n",
       " -0.0012527696089819074,\n",
       " -0.010112913325428963,\n",
       " 0.003604345954954624,\n",
       " 0.029457101598381996,\n",
       " 0.0012179253390058875,\n",
       " 0.00997677817940712,\n",
       " -0.005889475345611572,\n",
       " 0.004469777923077345,\n",
       " 0.022391026839613914,\n",
       " 0.02147049270570278,\n",
       " 0.01647886261343956,\n",
       " -0.024426575750112534,\n",
       " 0.0062103657983243465,\n",
       " 0.023985756561160088,\n",
       " 0.01795690320432186,\n",
       " 0.007059591356664896,\n",
       " -0.014080286957323551,\n",
       " -0.007189244031906128,\n",
       " -0.011163100600242615,\n",
       " -0.019810937345027924,\n",
       " 0.009685059078037739,\n",
       " -0.018073590472340584,\n",
       " -0.020951882004737854,\n",
       " 0.007377240806818008,\n",
       " 0.000537653686478734,\n",
       " -0.003999786917120218,\n",
       " -0.0235060416162014,\n",
       " -0.004793909844011068,\n",
       " 0.025891650468111038,\n",
       " -0.01410621777176857,\n",
       " 0.020070243626832962,\n",
       " -0.01931825838983059,\n",
       " 0.010916760191321373,\n",
       " 0.03230946138501167,\n",
       " 0.046234164386987686,\n",
       " 0.006469671614468098,\n",
       " -0.007228139787912369,\n",
       " -0.015052682720124722,\n",
       " 0.015299023129045963,\n",
       " -0.04942362383008003,\n",
       " 0.011895638890564442,\n",
       " -0.0020144793670624495,\n",
       " -0.024180235341191292,\n",
       " 0.0038215143140405416,\n",
       " 0.006187676917761564,\n",
       " -0.032724350690841675,\n",
       " 0.018021730706095695,\n",
       " -0.008297774940729141,\n",
       " -0.03223166987299919,\n",
       " 2.425924139970448e-05,\n",
       " -0.025645311921834946,\n",
       " -0.031246310099959373,\n",
       " -0.04343366622924805,\n",
       " -0.020977811887860298,\n",
       " 0.001384042901918292,\n",
       " 0.008187570609152317,\n",
       " -0.003192698583006859,\n",
       " -0.008745077066123486,\n",
       " -0.03995897248387337,\n",
       " -0.0009926537750288844,\n",
       " -0.0045767417177557945,\n",
       " 0.0076041328720748425,\n",
       " -0.05704720318317413,\n",
       " -0.02673439309000969,\n",
       " 0.017995798960328102,\n",
       " 0.005555619485676289,\n",
       " -0.011869708076119423,\n",
       " 0.01230404432862997,\n",
       " -0.02982012927532196,\n",
       " 0.013328300788998604,\n",
       " -0.0012203563237562776,\n",
       " -0.012355905957520008,\n",
       " -0.019875764846801758,\n",
       " -0.037002891302108765,\n",
       " -0.013522780500352383,\n",
       " 0.010372218675911427,\n",
       " 0.023363422602415085,\n",
       " 0.0037955837324261665,\n",
       " 0.028575463220477104,\n",
       " 0.014015460386872292,\n",
       " 0.017995798960328102,\n",
       " -0.004239644389599562,\n",
       " -0.006774355191737413,\n",
       " -0.003024150151759386,\n",
       " 0.01894226484000683,\n",
       " -0.006741942372173071,\n",
       " -0.016427000984549522,\n",
       " 0.0024763671681284904,\n",
       " 0.015765773132443428,\n",
       " 0.013639467768371105,\n",
       " 0.01224570069462061,\n",
       " 0.014339592307806015,\n",
       " -0.003267248859629035,\n",
       " 0.014222905039787292,\n",
       " 0.00743558444082737,\n",
       " 0.0019593769684433937,\n",
       " -0.010164774022996426,\n",
       " -0.05502462014555931,\n",
       " -0.007655994035303593,\n",
       " 0.008913625963032246,\n",
       " -0.008725629188120365,\n",
       " -0.004349849186837673,\n",
       " 0.009749885648488998,\n",
       " -0.019512737169861794,\n",
       " 0.023454179987311363,\n",
       " 0.0014869548613205552,\n",
       " -0.0007633304921910167,\n",
       " -0.009010865353047848,\n",
       " 0.02935337834060192,\n",
       " 0.00365944835357368,\n",
       " 0.0036400004755705595,\n",
       " -0.004900873173028231,\n",
       " 0.040218278765678406,\n",
       " -0.004813357722014189,\n",
       " -0.006456706207245588,\n",
       " -0.016297349706292152,\n",
       " 0.0064664301462471485,\n",
       " 0.00046593951992690563,\n",
       " 0.010994551703333855,\n",
       " 0.008842316456139088,\n",
       " -0.0019172398606315255,\n",
       " 0.011325166560709476,\n",
       " 0.020524028688669205,\n",
       " 0.008083848282694817,\n",
       " -0.006819733884185553,\n",
       " -0.005118041764944792,\n",
       " -0.012751346454024315,\n",
       " 0.006132574286311865,\n",
       " -0.0025120216887444258,\n",
       " -0.02385610342025757,\n",
       " -0.030131295323371887,\n",
       " -0.005118041764944792,\n",
       " 0.007040143478661776,\n",
       " -0.020070243626832962,\n",
       " -0.0064729126170277596,\n",
       " 0.012511488981544971,\n",
       " 0.003909029997885227,\n",
       " -0.01939604990184307,\n",
       " 0.0004894390585832298,\n",
       " -0.001435093698091805,\n",
       " 0.03925884887576103,\n",
       " 0.007053108885884285,\n",
       " 0.012492041103541851,\n",
       " 0.016543688252568245,\n",
       " 0.017295675352215767,\n",
       " 0.02189834788441658,\n",
       " 0.003727516159415245,\n",
       " 0.0033871775958687067,\n",
       " 0.00286532542668283,\n",
       " 0.01694561168551445,\n",
       " 0.011811364442110062,\n",
       " -0.0007807525689713657,\n",
       " -0.0033385579008609056,\n",
       " -0.008699698373675346,\n",
       " -0.01554536260664463,\n",
       " 0.011778950691223145,\n",
       " -0.013496849685907364,\n",
       " -0.004729083739221096,\n",
       " 0.006923456210643053,\n",
       " -0.012096600607037544,\n",
       " -0.013808016665279865,\n",
       " 0.01761980727314949,\n",
       " -0.02740858867764473,\n",
       " 0.026358401402831078,\n",
       " 0.007902334444224834,\n",
       " 0.014365523122251034,\n",
       " -0.023441214114427567,\n",
       " 0.0022381304297596216,\n",
       " -0.031583406031131744,\n",
       " 0.003464969340711832,\n",
       " 0.0038895821198821068,\n",
       " 0.0262676440179348,\n",
       " 0.012751346454024315,\n",
       " 0.012109565548598766,\n",
       " 0.004226678982377052,\n",
       " -0.010236083529889584,\n",
       " 0.005733892321586609,\n",
       " 0.007156831212341785,\n",
       " -0.012420731596648693,\n",
       " 0.001075307372957468,\n",
       " -0.02038140967488289,\n",
       " 0.01088434737175703,\n",
       " -0.014235869981348515,\n",
       " 0.015299023129045963,\n",
       " -0.007344827521592379,\n",
       " 0.000919724116101861,\n",
       " 0.010482423938810825,\n",
       " 0.019603492692112923,\n",
       " -0.013665398582816124,\n",
       " -0.005325485952198505,\n",
       " -0.020731471478939056,\n",
       " 0.012530936859548092,\n",
       " 0.013315335847437382,\n",
       " 0.010048086754977703,\n",
       " -1.956186315510422e-05,\n",
       " 0.006181193981319666,\n",
       " -0.014521106146275997,\n",
       " -0.0008808282436802983,\n",
       " 0.024893324822187424,\n",
       " -0.0058991992846131325,\n",
       " -0.022883707657456398,\n",
       " 0.009347962215542793,\n",
       " -0.002782671945169568,\n",
       " 0.002183028031140566,\n",
       " -0.010683385655283928,\n",
       " -0.005925130099058151,\n",
       " 0.007960678078234196,\n",
       " -0.018799645826220512,\n",
       " -0.005549137014895678,\n",
       " -0.03645835071802139,\n",
       " 0.01834586262702942,\n",
       " 0.011104756966233253,\n",
       " 0.00908865686506033,\n",
       " -0.004330401308834553,\n",
       " 0.018747786059975624,\n",
       " 0.008453357964754105,\n",
       " 0.001177408848889172,\n",
       " 0.0013394748093560338,\n",
       " 0.010294427163898945,\n",
       " 0.026630671694874763,\n",
       " -0.031064795330166817,\n",
       " 0.016414036974310875,\n",
       " -0.003941443283110857,\n",
       " -0.024789603427052498,\n",
       " 0.022442888468503952,\n",
       " -0.02096484787762165,\n",
       " -0.021963173523545265,\n",
       " -0.03749557211995125,\n",
       " 0.001614176551811397,\n",
       " 0.002163579920306802,\n",
       " -0.023791277781128883,\n",
       " -0.009036795236170292,\n",
       " -0.014132148586213589,\n",
       " 0.026656601577997208,\n",
       " 0.017814286053180695,\n",
       " -0.00034033841802738607,\n",
       " -0.03409866988658905,\n",
       " 0.010216635651886463,\n",
       " -0.019642390310764313,\n",
       " -0.008019021712243557,\n",
       " 0.005351416766643524,\n",
       " -0.0031132863368839025,\n",
       " -0.003568691434338689,\n",
       " 0.018229175359010696,\n",
       " 0.022546609863638878,\n",
       " -0.0023078187368810177,\n",
       " -0.014793377369642258,\n",
       " -0.017049334943294525,\n",
       " 0.001351629733107984,\n",
       " -0.0034746932797133923,\n",
       " 0.006177952978760004,\n",
       " -0.008025504648685455,\n",
       " -0.008213500492274761,\n",
       " -0.008025504648685455,\n",
       " -0.008913625963032246,\n",
       " 0.01400249544531107,\n",
       " 0.009399822913110256,\n",
       " 0.02787533774971962,\n",
       " -0.0012576315784826875,\n",
       " 0.030779559165239334,\n",
       " 0.0007390205864794552,\n",
       " 0.022040965035557747,\n",
       " -0.01677706465125084,\n",
       " -0.01319216564297676,\n",
       " -0.027927199378609657,\n",
       " -0.010223118588328362,\n",
       " -0.044159721583127975,\n",
       " -0.018527375534176826,\n",
       " -0.00834315363317728,\n",
       " 0.006242779083549976,\n",
       " -0.00033851517946459353,\n",
       " -0.024893324822187424,\n",
       " -0.026656601577997208,\n",
       " -0.020394375547766685,\n",
       " -0.030105365440249443,\n",
       " -0.016323279589414597,\n",
       " 0.0030484599992632866,\n",
       " 0.0016806236235424876,\n",
       " 0.022092826664447784,\n",
       " 0.013140304945409298,\n",
       " -0.004385503940284252,\n",
       " 0.014547036960721016,\n",
       " 0.001502351020462811,\n",
       " 0.009924916550517082,\n",
       " -0.01501378696411848,\n",
       " 0.009224792011082172,\n",
       " 0.020173965021967888,\n",
       " -0.00660904822871089,\n",
       " -0.005114800296723843,\n",
       " -0.013250509276986122,\n",
       " 0.002586571965366602,\n",
       " -0.012070669792592525,\n",
       " 0.007545789238065481,\n",
       " 0.002273784950375557,\n",
       " -0.02766789309680462,\n",
       " 0.010709315538406372,\n",
       " 0.027253005653619766,\n",
       " -0.015324953012168407,\n",
       " 8.974400407169014e-05,\n",
       " -0.012407766655087471,\n",
       " 0.010417597368359566,\n",
       " 0.012148461304605007,\n",
       " -0.005302797071635723,\n",
       " -0.025567518547177315,\n",
       " -0.01491006463766098,\n",
       " 0.009886020794510841,\n",
       " 0.027693824842572212,\n",
       " -0.016751132905483246,\n",
       " -0.002192751970142126,\n",
       " 0.030727697536349297,\n",
       " -0.018021730706095695,\n",
       " 0.01924046501517296,\n",
       " -0.024815533310174942,\n",
       " -0.01784021593630314,\n",
       " 0.029923850670456886,\n",
       " 0.014495176263153553,\n",
       " 0.017399396747350693,\n",
       " -0.008505219593644142,\n",
       " -0.013704294338822365,\n",
       " 0.010203670710325241,\n",
       " 0.020472167059779167,\n",
       " -0.012446662411093712,\n",
       " 0.006032093428075314,\n",
       " 0.008686733432114124,\n",
       " -0.029975712299346924,\n",
       " 0.0033709711860865355,\n",
       " 0.0196942500770092,\n",
       " -0.0419296957552433,\n",
       " -0.024880360811948776,\n",
       " 0.004473019391298294,\n",
       " -0.003079252550378442,\n",
       " -0.03757336363196373,\n",
       " -0.0114353708922863,\n",
       " -0.02520449087023735,\n",
       " 0.015467571094632149,\n",
       " -0.030338739976286888,\n",
       " 0.020614784210920334,\n",
       " 0.031168516725301743,\n",
       " -0.024426575750112534,\n",
       " 0.005335209891200066,\n",
       " -0.02440064400434494,\n",
       " -0.019681286066770554,\n",
       " -0.003223491134122014,\n",
       " -0.025528622791171074,\n",
       " -0.007571719586849213,\n",
       " -0.007014213129878044,\n",
       " -0.013205131515860558,\n",
       " 0.01614176481962204,\n",
       " -0.02147049270570278,\n",
       " -0.04231865331530571,\n",
       " 0.0027210868429392576,\n",
       " 0.012025291100144386,\n",
       " 0.010262014344334602,\n",
       " 0.011597436852753162,\n",
       " 0.23793870210647583,\n",
       " 0.000984550453722477,\n",
       " -0.009801746346056461,\n",
       " 0.02580089494585991,\n",
       " -0.006414568983018398,\n",
       " 0.019007090479135513,\n",
       " 0.003840962192043662,\n",
       " -0.000689590466208756,\n",
       " -0.003003081539645791,\n",
       " 0.017127126455307007,\n",
       " -0.012647624127566814,\n",
       " -0.006194159388542175,\n",
       " -0.03396901488304138,\n",
       " 0.007046625949442387,\n",
       " -0.015908390283584595,\n",
       " -0.0326206274330616,\n",
       " -0.026915907859802246,\n",
       " -0.03083142079412937,\n",
       " -0.015999147668480873,\n",
       " -0.004528121557086706,\n",
       " 0.02038140967488289,\n",
       " 0.013795050792396069,\n",
       " 0.031324099749326706,\n",
       " -0.019681286066770554,\n",
       " 0.03498030826449394,\n",
       " 0.021924277767539024,\n",
       " -0.011338131502270699,\n",
       " -0.00287018739618361,\n",
       " 0.04737510904669762,\n",
       " 0.025645311921834946,\n",
       " 0.010002708062529564,\n",
       " 0.003142458153888583,\n",
       " 0.00976285059005022,\n",
       " -0.01761980727314949,\n",
       " 0.020122105255723,\n",
       " 0.00830425787717104,\n",
       " 0.008913625963032246,\n",
       " -0.01749015413224697,\n",
       " 0.01761980727314949,\n",
       " 0.011130687780678272,\n",
       " -0.005639893934130669,\n",
       " -0.007040143478661776,\n",
       " -0.027045561000704765,\n",
       " -0.015532397665083408,\n",
       " 0.008719146251678467,\n",
       " -0.010501871816813946,\n",
       " ...]"
      ]
     },
     "execution_count": 28,
     "metadata": {},
     "output_type": "execute_result"
    }
   ],
   "source": [
    "PROMPT = \"This is Geeks for Geeks office. How can I help you?\"\n",
    "get_embedding(PROMPT)\n"
   ]
  },
  {
   "cell_type": "markdown",
   "id": "0328c091",
   "metadata": {},
   "source": [
    "As we can see, we have obtained a vector generated by OpenAI Embeddings module. You can use this vector with any machine learning or deep learning algorithm.\n",
    "\n",
    "Fine-Tuning\n",
    "Open AI allows developers to fine-tune their models for specific purposes using their fine-tunes API endpoint. Below listed are the models you can fine-tune using this API:\n",
    "\n",
    "davinci\n",
    "curie\n",
    "babbage\n",
    "ada\n",
    "For fine-tuning a model, you first need to make sure that your dataset is in JSONL format and if you are working on free trial, your training bill should not exceed 5 dollars. To prepare your dataset, you can execute the below command in your jupyter notebook:\n",
    "\n",
    "!openai tools fine_tunes.prepare_data -f <dataset location>\n",
    "\n",
    "With the exception of a prompt and a completion column/key, this tool accepts a variety of forms. You can instruct it to store the output into a JSONL file suitable for fine-tuning by passing it a CSV, TSV, XLSX, JSON, or JSONL file. It will walk you through the process of proposed adjustments.\n",
    "\n",
    "Now, you can fine-tune a model by executing the below code in python environment:"
   ]
  },
  {
   "cell_type": "code",
   "execution_count": 29,
   "id": "fbb0a947",
   "metadata": {},
   "outputs": [
    {
     "name": "stdout",
     "output_type": "stream",
     "text": [
      "Analyzing...\n",
      "\n",
      "- Based on your file extension, your file is formatted as a CSV file\n",
      "- Your file contains 3994 prompt-completion pairs\n"
     ]
    },
    {
     "name": "stderr",
     "output_type": "stream",
     "text": [
      "\n",
      "\n",
      "ERROR in necessary_column validator: `prompt` column/key is missing. Please make sure you name your columns/keys appropriately, then retry\n",
      "\n",
      "Aborting...\n"
     ]
    }
   ],
   "source": [
    "!openai tools fine_tunes.prepare_data -f \"AmericaBankNew.csv\""
   ]
  },
  {
   "cell_type": "code",
   "execution_count": 30,
   "id": "499f3ba5",
   "metadata": {},
   "outputs": [
    {
     "ename": "SyntaxError",
     "evalue": "expression cannot contain assignment, perhaps you meant \"==\"? (2463362539.py, line 3)",
     "output_type": "error",
     "traceback": [
      "\u001b[1;36m  Cell \u001b[1;32mIn[30], line 3\u001b[1;36m\u001b[0m\n\u001b[1;33m    res = openai.FineTune.create(\"training_file\"=\"<training-file-id>\",\u001b[0m\n\u001b[1;37m                                 ^\u001b[0m\n\u001b[1;31mSyntaxError\u001b[0m\u001b[1;31m:\u001b[0m expression cannot contain assignment, perhaps you meant \"==\"?\n"
     ]
    }
   ],
   "source": [
    "# FineTune Endpoint of OpenAI is used to fine-tune models\n",
    "# for a specific task\n",
    "res = openai.FineTune.create(\"training_file\"=\"<training-file-id>\",\n",
    "\t\"validation_file\"=\"<validation-file-id>\",\n",
    "\t\"model\"==\"<model-name>\",\n",
    "\t\"n_epochs\"==\"<number of epochs/iterations>[integer]\",\n",
    "\t\"batch_size\"==\"<batch size for model to train on>[integer]\",\n",
    "\t\"learning_rate_multiplier\"==\"\"\"<The pretraining learning rate multiplied by this\n",
    "\tnumber yields the fine-tuning learning rate.>[integer]\"\"\")\n",
    "# storing the fine-tuning Job ID\n",
    "jobID = res[\"id\"]\n",
    "# storing the status of fine-tuning\n",
    "# initially it will show pending that means your task is in the queue\n",
    "status = res[\"status\"]\n",
    "\n",
    "print(f'Fine-tunning model with jobID: {jobID}.')\n",
    "print(f\"Training Response: {res}\")\n",
    "print(f\"Training Status: {status}\")\n"
   ]
  },
  {
   "cell_type": "markdown",
   "id": "3e2f165f",
   "metadata": {},
   "source": [
    "Example of Fine-tuning\n",
    "We will be taking the first 100 rows of Spam Classification dataset here. "
   ]
  },
  {
   "cell_type": "code",
   "execution_count": 31,
   "id": "d3b79b4b",
   "metadata": {},
   "outputs": [
    {
     "name": "stdout",
     "output_type": "stream",
     "text": [
      "Analyzing...\n"
     ]
    },
    {
     "name": "stderr",
     "output_type": "stream",
     "text": [
      "\n",
      "\n",
      "ERROR in read_any_format validator: Your file `spam.csv` does not appear to be in valid CSV format. Please ensure your file is formatted as a valid CSV file.\n",
      "\n",
      "Aborting...\n"
     ]
    }
   ],
   "source": [
    "!openai tools fine_tunes.prepare_data -f \"spam.csv\""
   ]
  },
  {
   "cell_type": "code",
   "execution_count": 60,
   "id": "d1a53388",
   "metadata": {},
   "outputs": [
    {
     "ename": "FileNotFoundError",
     "evalue": "[Errno 2] No such file or directory: 'spam_prepared_train.jsonl'",
     "output_type": "error",
     "traceback": [
      "\u001b[1;31m---------------------------------------------------------------------------\u001b[0m",
      "\u001b[1;31mFileNotFoundError\u001b[0m                         Traceback (most recent call last)",
      "Cell \u001b[1;32mIn[60], line 3\u001b[0m\n\u001b[0;32m      1\u001b[0m \u001b[38;5;66;03m# uploading the training dataset\u001b[39;00m\n\u001b[0;32m      2\u001b[0m openai\u001b[38;5;241m.\u001b[39mFile\u001b[38;5;241m.\u001b[39mcreate(\n\u001b[1;32m----> 3\u001b[0m file\u001b[38;5;241m=\u001b[39m\u001b[38;5;28;43mopen\u001b[39;49m\u001b[43m(\u001b[49m\u001b[38;5;124;43m\"\u001b[39;49m\u001b[38;5;124;43mspam_prepared_train.jsonl\u001b[39;49m\u001b[38;5;124;43m\"\u001b[39;49m\u001b[43m,\u001b[49m\u001b[43m \u001b[49m\u001b[38;5;124;43m\"\u001b[39;49m\u001b[38;5;124;43mrb\u001b[39;49m\u001b[38;5;124;43m\"\u001b[39;49m\u001b[43m)\u001b[49m,\n\u001b[0;32m      4\u001b[0m purpose\u001b[38;5;241m=\u001b[39m\u001b[38;5;124m'\u001b[39m\u001b[38;5;124mfine-tune\u001b[39m\u001b[38;5;124m'\u001b[39m\n\u001b[0;32m      5\u001b[0m )\n",
      "File \u001b[1;32m~\\Anaconda3\\envs\\Torch\\lib\\site-packages\\IPython\\core\\interactiveshell.py:284\u001b[0m, in \u001b[0;36m_modified_open\u001b[1;34m(file, *args, **kwargs)\u001b[0m\n\u001b[0;32m    277\u001b[0m \u001b[38;5;28;01mif\u001b[39;00m file \u001b[38;5;129;01min\u001b[39;00m {\u001b[38;5;241m0\u001b[39m, \u001b[38;5;241m1\u001b[39m, \u001b[38;5;241m2\u001b[39m}:\n\u001b[0;32m    278\u001b[0m     \u001b[38;5;28;01mraise\u001b[39;00m \u001b[38;5;167;01mValueError\u001b[39;00m(\n\u001b[0;32m    279\u001b[0m         \u001b[38;5;124mf\u001b[39m\u001b[38;5;124m\"\u001b[39m\u001b[38;5;124mIPython won\u001b[39m\u001b[38;5;124m'\u001b[39m\u001b[38;5;124mt let you open fd=\u001b[39m\u001b[38;5;132;01m{\u001b[39;00mfile\u001b[38;5;132;01m}\u001b[39;00m\u001b[38;5;124m by default \u001b[39m\u001b[38;5;124m\"\u001b[39m\n\u001b[0;32m    280\u001b[0m         \u001b[38;5;124m\"\u001b[39m\u001b[38;5;124mas it is likely to crash IPython. If you know what you are doing, \u001b[39m\u001b[38;5;124m\"\u001b[39m\n\u001b[0;32m    281\u001b[0m         \u001b[38;5;124m\"\u001b[39m\u001b[38;5;124myou can use builtins\u001b[39m\u001b[38;5;124m'\u001b[39m\u001b[38;5;124m open.\u001b[39m\u001b[38;5;124m\"\u001b[39m\n\u001b[0;32m    282\u001b[0m     )\n\u001b[1;32m--> 284\u001b[0m \u001b[38;5;28;01mreturn\u001b[39;00m io_open(file, \u001b[38;5;241m*\u001b[39margs, \u001b[38;5;241m*\u001b[39m\u001b[38;5;241m*\u001b[39mkwargs)\n",
      "\u001b[1;31mFileNotFoundError\u001b[0m: [Errno 2] No such file or directory: 'spam_prepared_train.jsonl'"
     ]
    }
   ],
   "source": [
    "# uploading the training dataset\n",
    "openai.File.create(\n",
    "file=open(\"spam_prepared_train.jsonl\", \"rb\"),\n",
    "purpose='fine-tune'\n",
    ")\n"
   ]
  },
  {
   "cell_type": "code",
   "execution_count": null,
   "id": "90da119d",
   "metadata": {},
   "outputs": [],
   "source": []
  }
 ],
 "metadata": {
  "kernelspec": {
   "display_name": "Python 3 (ipykernel)",
   "language": "python",
   "name": "python3"
  },
  "language_info": {
   "codemirror_mode": {
    "name": "ipython",
    "version": 3
   },
   "file_extension": ".py",
   "mimetype": "text/x-python",
   "name": "python",
   "nbconvert_exporter": "python",
   "pygments_lexer": "ipython3",
   "version": "3.11.4"
  }
 },
 "nbformat": 4,
 "nbformat_minor": 5
}

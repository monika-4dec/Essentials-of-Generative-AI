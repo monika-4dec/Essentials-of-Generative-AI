{
 "cells": [
  {
   "cell_type": "code",
   "execution_count": 1,
   "id": "13f83c8d",
   "metadata": {},
   "outputs": [
    {
     "name": "stdout",
     "output_type": "stream",
     "text": [
      "Requirement already satisfied: PyPDF2 in c:\\users\\imcoo\\anaconda3\\lib\\site-packages (3.0.1)\n",
      "Note: you may need to restart the kernel to use updated packages.\n"
     ]
    }
   ],
   "source": [
    "pip install PyPDF2"
   ]
  },
  {
   "cell_type": "code",
   "execution_count": 1,
   "id": "7bfe8879",
   "metadata": {},
   "outputs": [
    {
     "data": {
      "text/plain": [
       "'C:\\\\Users\\\\imcoo'"
      ]
     },
     "execution_count": 1,
     "metadata": {},
     "output_type": "execute_result"
    }
   ],
   "source": [
    "import os\n",
    "os.getcwd()"
   ]
  },
  {
   "cell_type": "code",
   "execution_count": 8,
   "id": "37cc503f",
   "metadata": {},
   "outputs": [],
   "source": [
    "import PyPDF2"
   ]
  },
  {
   "cell_type": "code",
   "execution_count": 27,
   "id": "9bd502d6",
   "metadata": {},
   "outputs": [],
   "source": [
    "from PyPDF2 import PdfReader\n",
    "pdf_path=r\"C:\\Users\\imcoo\\Customer.pdf\"\n",
    "with open(pdf_path, 'rb') as f:\n",
    "        pdf = PdfReader(f)\n",
    "#         information = pdf.getDocumentInfo()\n",
    "#         number_of_pages = len(reader.pages)\n",
    "#         print(information)"
   ]
  },
  {
   "cell_type": "code",
   "execution_count": 28,
   "id": "ef832f68",
   "metadata": {},
   "outputs": [],
   "source": [
    "# creating a pdf file object\n",
    "pdfFileObject = open(pdf_path, 'rb')"
   ]
  },
  {
   "cell_type": "code",
   "execution_count": 29,
   "id": "2b110be3",
   "metadata": {},
   "outputs": [],
   "source": [
    "# creating a pdf reader object\n",
    "pdfReader = PyPDF2.PdfReader(pdfFileObject)"
   ]
  },
  {
   "cell_type": "code",
   "execution_count": 12,
   "id": "e0a7c2df",
   "metadata": {},
   "outputs": [
    {
     "name": "stdout",
     "output_type": "stream",
     "text": [
      "Requirement already satisfied: pdfquery in c:\\users\\imcoo\\anaconda3\\lib\\site-packages (0.4.3)\n",
      "Requirement already satisfied: cssselect>=0.7.1 in c:\\users\\imcoo\\anaconda3\\lib\\site-packages (from pdfquery) (1.2.0)\n",
      "Requirement already satisfied: chardet in c:\\users\\imcoo\\anaconda3\\lib\\site-packages (from pdfquery) (4.0.0)\n",
      "Requirement already satisfied: lxml>=3.0 in c:\\users\\imcoo\\anaconda3\\lib\\site-packages (from pdfquery) (4.9.2)\n",
      "Requirement already satisfied: pdfminer.six in c:\\users\\imcoo\\anaconda3\\lib\\site-packages (from pdfquery) (20221105)\n",
      "Requirement already satisfied: pyquery>=1.2.2 in c:\\users\\imcoo\\anaconda3\\lib\\site-packages (from pdfquery) (2.0.0)\n",
      "Requirement already satisfied: roman>=1.4.0 in c:\\users\\imcoo\\anaconda3\\lib\\site-packages (from pdfquery) (4.1)\n",
      "Requirement already satisfied: charset-normalizer>=2.0.0 in c:\\users\\imcoo\\anaconda3\\lib\\site-packages (from pdfminer.six->pdfquery) (2.0.4)\n",
      "Requirement already satisfied: cryptography>=36.0.0 in c:\\users\\imcoo\\anaconda3\\lib\\site-packages (from pdfminer.six->pdfquery) (41.0.2)\n",
      "Requirement already satisfied: cffi>=1.12 in c:\\users\\imcoo\\anaconda3\\lib\\site-packages (from cryptography>=36.0.0->pdfminer.six->pdfquery) (1.15.1)\n",
      "Requirement already satisfied: pycparser in c:\\users\\imcoo\\anaconda3\\lib\\site-packages (from cffi>=1.12->cryptography>=36.0.0->pdfminer.six->pdfquery) (2.21)\n",
      "Note: you may need to restart the kernel to use updated packages.\n"
     ]
    }
   ],
   "source": [
    "pip install pdfquery"
   ]
  },
  {
   "cell_type": "code",
   "execution_count": 30,
   "id": "f90877b3",
   "metadata": {},
   "outputs": [
    {
     "name": "stdout",
     "output_type": "stream",
     "text": [
      "['Name ', 'Dan ', 'Joann ', 'Pedro ', 'Rosie ', 'Ethan ', 'Vicky ', 'Frederic ', 'Jimmie ', 'Rhonda ', 'Giovanni ', 'Francesca ', 'Rajab ', 'Naiyana ', 'Kian ', 'Jenny ', 'Jakeem ', 'Helena ', 'Ismat ', 'Anila ', 'Skye ', 'Daniel ', 'Aisha ', 'Bill ', 'Ted ', 'StudyHoursGrade ', '10 ', '11.5 ', '9 ', '16 ', '9.25 ', '1 ', '11.5 ', '9 ', '8.5 ', '14.5 ', '15.5 ', '13.75 ', '9 ', '8 ', '15.5 ', '8 ', '9 ', '6 ', '10 ', '12 ', '12.5 ', '12 ', '8 ', '50 ', '50 ', '47 ', '97 ', '49 ', '3 ', '53 ', '42 ', '26 ', '74 ', '82 ', '62 ', '37 ', '15 ', '70 ', '27 ', '36 ', '35 ', '48 ', '52 ', '63 ', '64 ']\n"
     ]
    }
   ],
   "source": [
    "from pdfquery import PDFQuery\n",
    "\n",
    "pdf = PDFQuery('Customer.pdf')\n",
    "pdf.load()\n",
    "\n",
    "# Use CSS-like selectors to locate the elements\n",
    "text_elements = pdf.pq('LTTextLineHorizontal')\n",
    "\n",
    "# Extract the text from the elements\n",
    "text = [t.text for t in text_elements]\n",
    "\n",
    "print(text)"
   ]
  },
  {
   "cell_type": "markdown",
   "id": "96da78a1",
   "metadata": {},
   "source": [
    "In this code, we first create a PDFQuery object by passing the filename of the PDF file we want to extract data from. We then load the document into the object by calling the load() method.\n",
    "\n",
    "Next, we use CSS-like selectors to locate the text elements in the PDF document. The pq() method is used to locate the elements, which returns a PyQuery object that represents the selected elements.\n",
    "\n",
    "Finally, we extract the text from the elements by accessing the text attribute of each element and we store the extracted text in a list called text.\n",
    "\n",
    "Let's consider another method we can use to read PDF files, extract some data elements, and create a structured dataset using PDFQuery. We will follow the following steps:\n",
    "\n",
    "# Package installation.\n",
    "Import the libraries.\n",
    "Read and convert the PDF files.\n",
    "Access and extract the Data.\n",
    "# Package installation\n",
    "First, we need to install PDFQuery and also install Pandas for some analysis and data presentation."
   ]
  },
  {
   "cell_type": "raw",
   "id": "de8c9736",
   "metadata": {},
   "source": [
    "pip install pdfquery\n",
    "pip install pandas"
   ]
  },
  {
   "cell_type": "code",
   "execution_count": 14,
   "id": "a4e782c5",
   "metadata": {},
   "outputs": [],
   "source": [
    "import pandas as pd\n",
    "import pdfquery"
   ]
  },
  {
   "cell_type": "markdown",
   "id": "88d86179",
   "metadata": {},
   "source": [
    "We import the two libraries to be be able to use them in our project.\n",
    "\n",
    "Read and convert the PDF files"
   ]
  },
  {
   "cell_type": "code",
   "execution_count": 16,
   "id": "dbe0d556",
   "metadata": {},
   "outputs": [
    {
     "data": {
      "text/plain": [
       "<pdfquery.pdfquery.PDFQuery at 0x1fc93657090>"
      ]
     },
     "execution_count": 16,
     "metadata": {},
     "output_type": "execute_result"
    }
   ],
   "source": [
    "#read the PDF\n",
    "pdf = pdfquery.PDFQuery('Customer.pdf')\n",
    "pdf.load()\n",
    "\n",
    "\n",
    "#convert the pdf to XML\n",
    "pdf.tree.write('sample1.xml', pretty_print = True)\n",
    "pdf"
   ]
  },
  {
   "cell_type": "markdown",
   "id": "0c936e71",
   "metadata": {},
   "source": [
    "We will read the pdf file into our project as an element object and load it. Convert the pdf object into an Extensible Markup Language (XML) file. This file contains the data and the metadata of a given PDF page.\n",
    "\n",
    "The XML defines a set of rules for encoding PDF in a format that is readable by humans and machines. Looking at the XML file using a text editor, we can see where the data we want to extract is.\n",
    "\n",
    "Access and extract the Data\n",
    "We can get the information we are trying to extract inside the LTTextBoxHorizontal tag, and we can see the metadata associated with it.\n",
    "\n",
    "The values inside the text box, [68.0, 231.57, 101.990, 234.893] in the XML fragment refers to Left, Bottom, Right, Top coordinates of the text box. You can think of this as the boundaries around the data we want to extract.\n",
    "\n",
    "Let’s access and extract the customer name using the coordinates of the text box."
   ]
  },
  {
   "cell_type": "code",
   "execution_count": 22,
   "id": "5d892d5d",
   "metadata": {},
   "outputs": [
    {
     "name": "stdout",
     "output_type": "stream",
     "text": [
      "\n"
     ]
    }
   ],
   "source": [
    "# access the data using coordinates\n",
    "customer_name = pdf.pq('<LTTextLineHorizontal:in_bbox=(\"52.8, 651.46, 78.755, 662.5\")').text()\n",
    "\n",
    "print(customer_name)\n",
    "\n",
    "#output: Brandon James\n",
    "\n"
   ]
  },
  {
   "cell_type": "code",
   "execution_count": null,
   "id": "ba8bb21c",
   "metadata": {},
   "outputs": [],
   "source": []
  },
  {
   "cell_type": "code",
   "execution_count": null,
   "id": "4f7ad54b",
   "metadata": {},
   "outputs": [],
   "source": []
  }
 ],
 "metadata": {
  "kernelspec": {
   "display_name": "Python 3 (ipykernel)",
   "language": "python",
   "name": "python3"
  },
  "language_info": {
   "codemirror_mode": {
    "name": "ipython",
    "version": 3
   },
   "file_extension": ".py",
   "mimetype": "text/x-python",
   "name": "python",
   "nbconvert_exporter": "python",
   "pygments_lexer": "ipython3",
   "version": "3.11.4"
  }
 },
 "nbformat": 4,
 "nbformat_minor": 5
}

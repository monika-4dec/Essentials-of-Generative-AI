{
 "cells": [
  {
   "cell_type": "markdown",
   "id": "21685556",
   "metadata": {},
   "source": [
    "OpenAI is a cutting-edge AI research lab that is developing advanced artificial intelligence technologies. ChatGPT is a state-of-the-art language model developed by OpenAI, that is capable of generating human-like text. The ChatGPT API allows developers to access the capabilities of ChatGPT and use it in their own projects, such as in Jupyter Notebooks.\n",
    "\n",
    "Using the ChatGPT API directly in your Jupyter notebook can be a powerful way to generate human-like text quickly and easily. This guide will walk you through the process of setting up the API and using it to generate text in a Jupyter notebook.\n",
    "\n",
    "# Step 1: Install the OpenAI library.\n",
    "To use the ChatGPT API, you’ll first need to install the OpenAI library. This can be done by running the following command inyour command prompt:\n",
    " "
   ]
  },
  {
   "cell_type": "code",
   "execution_count": 1,
   "id": "2c981e3a",
   "metadata": {},
   "outputs": [
    {
     "name": "stdout",
     "output_type": "stream",
     "text": [
      "Requirement already satisfied: ipython-gpt in c:\\users\\monika201103\\anaconda3\\envs\\torch\\lib\\site-packages (0.0.6)\n",
      "Requirement already satisfied: ipython<9.0.0,>=8.12.0 in c:\\users\\monika201103\\anaconda3\\envs\\torch\\lib\\site-packages (from ipython-gpt) (8.14.0)\n",
      "Requirement already satisfied: decorator in c:\\users\\monika201103\\anaconda3\\envs\\torch\\lib\\site-packages (from ipython<9.0.0,>=8.12.0->ipython-gpt) (5.1.1)\n",
      "Requirement already satisfied: jedi>=0.16 in c:\\users\\monika201103\\anaconda3\\envs\\torch\\lib\\site-packages (from ipython<9.0.0,>=8.12.0->ipython-gpt) (0.18.1)\n",
      "Requirement already satisfied: traitlets>=5 in c:\\users\\monika201103\\anaconda3\\envs\\torch\\lib\\site-packages (from ipython<9.0.0,>=8.12.0->ipython-gpt) (5.7.1)\n",
      "Requirement already satisfied: stack-data in c:\\users\\monika201103\\anaconda3\\envs\\torch\\lib\\site-packages (from ipython<9.0.0,>=8.12.0->ipython-gpt) (0.2.0)\n",
      "Requirement already satisfied: pygments>=2.4.0 in c:\\users\\monika201103\\anaconda3\\envs\\torch\\lib\\site-packages (from ipython<9.0.0,>=8.12.0->ipython-gpt) (2.11.2)\n",
      "Requirement already satisfied: prompt-toolkit!=3.0.37,<3.1.0,>=3.0.30 in c:\\users\\monika201103\\anaconda3\\envs\\torch\\lib\\site-packages (from ipython<9.0.0,>=8.12.0->ipython-gpt) (3.0.36)\n",
      "Requirement already satisfied: colorama in c:\\users\\monika201103\\anaconda3\\envs\\torch\\lib\\site-packages (from ipython<9.0.0,>=8.12.0->ipython-gpt) (0.4.6)\n",
      "Requirement already satisfied: backcall in c:\\users\\monika201103\\anaconda3\\envs\\torch\\lib\\site-packages (from ipython<9.0.0,>=8.12.0->ipython-gpt) (0.2.0)\n",
      "Requirement already satisfied: pickleshare in c:\\users\\monika201103\\anaconda3\\envs\\torch\\lib\\site-packages (from ipython<9.0.0,>=8.12.0->ipython-gpt) (0.7.5)\n",
      "Requirement already satisfied: matplotlib-inline in c:\\users\\monika201103\\anaconda3\\envs\\torch\\lib\\site-packages (from ipython<9.0.0,>=8.12.0->ipython-gpt) (0.1.6)\n",
      "Requirement already satisfied: typing-extensions in c:\\users\\monika201103\\anaconda3\\envs\\torch\\lib\\site-packages (from ipython<9.0.0,>=8.12.0->ipython-gpt) (4.4.0)\n",
      "Requirement already satisfied: parso<0.9.0,>=0.8.0 in c:\\users\\monika201103\\anaconda3\\envs\\torch\\lib\\site-packages (from jedi>=0.16->ipython<9.0.0,>=8.12.0->ipython-gpt) (0.8.3)\n",
      "Requirement already satisfied: wcwidth in c:\\users\\monika201103\\anaconda3\\envs\\torch\\lib\\site-packages (from prompt-toolkit!=3.0.37,<3.1.0,>=3.0.30->ipython<9.0.0,>=8.12.0->ipython-gpt) (0.2.5)\n",
      "Requirement already satisfied: pure-eval in c:\\users\\monika201103\\anaconda3\\envs\\torch\\lib\\site-packages (from stack-data->ipython<9.0.0,>=8.12.0->ipython-gpt) (0.2.2)\n",
      "Requirement already satisfied: executing in c:\\users\\monika201103\\anaconda3\\envs\\torch\\lib\\site-packages (from stack-data->ipython<9.0.0,>=8.12.0->ipython-gpt) (0.8.3)\n",
      "Requirement already satisfied: asttokens in c:\\users\\monika201103\\anaconda3\\envs\\torch\\lib\\site-packages (from stack-data->ipython<9.0.0,>=8.12.0->ipython-gpt) (2.0.5)\n",
      "Requirement already satisfied: six in c:\\users\\monika201103\\anaconda3\\envs\\torch\\lib\\site-packages (from asttokens->stack-data->ipython<9.0.0,>=8.12.0->ipython-gpt) (1.16.0)\n"
     ]
    }
   ],
   "source": [
    "!pip install ipython-gpt"
   ]
  },
  {
   "cell_type": "markdown",
   "id": "0b50eda6",
   "metadata": {},
   "source": [
    "# Step 2: Set up an API key.\n",
    "You will also need to set up an API key. You can get one from the OpenAI website. Once you have your API key, you can use it to create an API client by running the following code in your Jupyter notebook:"
   ]
  },
  {
   "cell_type": "markdown",
   "id": "75e10727",
   "metadata": {},
   "source": [
    "# https://platform.openai.com/account/api-keys"
   ]
  },
  {
   "cell_type": "code",
   "execution_count": 2,
   "id": "fca7aee6",
   "metadata": {},
   "outputs": [
    {
     "name": "stdout",
     "output_type": "stream",
     "text": [
      "Requirement already satisfied: openai in c:\\users\\monika201103\\anaconda3\\envs\\torch\\lib\\site-packages (0.27.8)\n",
      "Requirement already satisfied: aiohttp in c:\\users\\monika201103\\anaconda3\\envs\\torch\\lib\\site-packages (from openai) (3.8.3)\n",
      "Requirement already satisfied: requests>=2.20 in c:\\users\\monika201103\\anaconda3\\envs\\torch\\lib\\site-packages (from openai) (2.28.1)\n",
      "Requirement already satisfied: tqdm in c:\\users\\monika201103\\anaconda3\\envs\\torch\\lib\\site-packages (from openai) (4.65.0)\n",
      "Requirement already satisfied: urllib3<1.27,>=1.21.1 in c:\\users\\monika201103\\anaconda3\\envs\\torch\\lib\\site-packages (from requests>=2.20->openai) (1.26.14)\n",
      "Requirement already satisfied: idna<4,>=2.5 in c:\\users\\monika201103\\anaconda3\\envs\\torch\\lib\\site-packages (from requests>=2.20->openai) (3.4)\n",
      "Requirement already satisfied: certifi>=2017.4.17 in c:\\users\\monika201103\\anaconda3\\envs\\torch\\lib\\site-packages (from requests>=2.20->openai) (2022.12.7)\n",
      "Requirement already satisfied: charset-normalizer<3,>=2 in c:\\users\\monika201103\\anaconda3\\envs\\torch\\lib\\site-packages (from requests>=2.20->openai) (2.0.4)\n",
      "Requirement already satisfied: async-timeout<5.0,>=4.0.0a3 in c:\\users\\monika201103\\anaconda3\\envs\\torch\\lib\\site-packages (from aiohttp->openai) (4.0.2)\n",
      "Requirement already satisfied: yarl<2.0,>=1.0 in c:\\users\\monika201103\\anaconda3\\envs\\torch\\lib\\site-packages (from aiohttp->openai) (1.8.1)\n",
      "Requirement already satisfied: frozenlist>=1.1.1 in c:\\users\\monika201103\\anaconda3\\envs\\torch\\lib\\site-packages (from aiohttp->openai) (1.3.3)\n",
      "Requirement already satisfied: aiosignal>=1.1.2 in c:\\users\\monika201103\\anaconda3\\envs\\torch\\lib\\site-packages (from aiohttp->openai) (1.2.0)\n",
      "Requirement already satisfied: multidict<7.0,>=4.5 in c:\\users\\monika201103\\anaconda3\\envs\\torch\\lib\\site-packages (from aiohttp->openai) (6.0.2)\n",
      "Requirement already satisfied: attrs>=17.3.0 in c:\\users\\monika201103\\anaconda3\\envs\\torch\\lib\\site-packages (from aiohttp->openai) (22.1.0)\n",
      "Requirement already satisfied: colorama in c:\\users\\monika201103\\anaconda3\\envs\\torch\\lib\\site-packages (from tqdm->openai) (0.4.6)\n",
      "Note: you may need to restart the kernel to use updated packages.\n"
     ]
    }
   ],
   "source": [
    "pip install openai"
   ]
  },
  {
   "cell_type": "code",
   "execution_count": 3,
   "id": "521c0292",
   "metadata": {},
   "outputs": [],
   "source": [
    "import openai\n",
    "openai.api_key = \"YOUR API KEY\"\n",
    "#ENTER YOUR API IN:  YOUR API KEY"
   ]
  },
  {
   "cell_type": "markdown",
   "id": "1434cb58",
   "metadata": {},
   "source": [
    "# Step 3: Generate text.\n",
    "Now that you have set up the API client, you can use it to generate text by running the following code in your Jupyter notebook:"
   ]
  },
  {
   "cell_type": "code",
   "execution_count": 4,
   "id": "22523d00",
   "metadata": {},
   "outputs": [
    {
     "name": "stdout",
     "output_type": "stream",
     "text": [
      "\n",
      "\n",
      "The weather in London today is Cloudy with a high of 46 degrees and a low of 41 degrees.\n"
     ]
    }
   ],
   "source": [
    "# Generate text\n",
    "prompt = \"What is the weather like in London today?\"\n",
    "completions = openai.Completion.create(\n",
    "    engine=\"text-davinci-002\",\n",
    "    prompt=prompt,\n",
    "    max_tokens=1024,\n",
    "    n=1,\n",
    "    stop=None,\n",
    "    temperature=0.5,\n",
    ")\n",
    "\n",
    "# Print the generated text\n",
    "message = completions.choices[0].text\n",
    "print(message)"
   ]
  },
  {
   "cell_type": "markdown",
   "id": "bc01d0b6",
   "metadata": {},
   "source": [
    "In this example, we’re using the “text-davinci-002” engine, with a prompt of “What is the weather like in London today?” We’re also specifying that we want the API to generate up to 1024 tokens of text, and that we want it to generate a single response. The stop parameter allows you to specify a sequence of tokens at which the API will stop generating text. The temperature parameter controls the randomness of the output.\n",
    "\n",
    "You can adjust the prompt, engine, max_tokens, n, stop, and temperature parameters to control the output generated by the API.\n",
    "\n",
    "In conclusion, using the ChatGPT API in Jupyter Notebook is a powerful way to generate human-like text quickly and easily. With just a few lines of code, you can set up the API, generate text, and use it in your projects or research."
   ]
  }
 ],
 "metadata": {
  "kernelspec": {
   "display_name": "Python 3 (ipykernel)",
   "language": "python",
   "name": "python3"
  },
  "language_info": {
   "codemirror_mode": {
    "name": "ipython",
    "version": 3
   },
   "file_extension": ".py",
   "mimetype": "text/x-python",
   "name": "python",
   "nbconvert_exporter": "python",
   "pygments_lexer": "ipython3",
   "version": "3.9.16"
  }
 },
 "nbformat": 4,
 "nbformat_minor": 5
}

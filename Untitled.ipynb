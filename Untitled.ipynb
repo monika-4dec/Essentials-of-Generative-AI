{
 "cells": [
  {
   "cell_type": "code",
   "execution_count": null,
   "id": "e73162ca",
   "metadata": {},
   "outputs": [],
   "source": [
    "def generate_content(topic):\n",
    "    prompt = f\"Write a paragraph about {topic}.\"\n",
    "    response = openai.Completion.create(\n",
    "        engine=\"davinci\",\n",
    "        prompt=prompt,\n",
    "        max_tokens=100\n",
    "    )\n",
    "    generated_paragraph = response.choices[0].text.strip()\n",
    "    return generated_paragraph\n",
    "\n",
    "topic = \"Artificial Intelligence\"\n",
    "content = generate_content(topic)\n",
    "print(content)\n"
   ]
  }
 ],
 "metadata": {
  "kernelspec": {
   "display_name": "Python 3 (ipykernel)",
   "language": "python",
   "name": "python3"
  },
  "language_info": {
   "codemirror_mode": {
    "name": "ipython",
    "version": 3
   },
   "file_extension": ".py",
   "mimetype": "text/x-python",
   "name": "python",
   "nbconvert_exporter": "python",
   "pygments_lexer": "ipython3",
   "version": "3.9.13"
  }
 },
 "nbformat": 4,
 "nbformat_minor": 5
}

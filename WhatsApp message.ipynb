{
 "cells": [
  {
   "cell_type": "markdown",
   "id": "f3d2f5f9",
   "metadata": {},
   "source": [
    "# Automate WhatsApp Messages With Python using Pywhatkit module\n",
    "\n",
    "Practice\n",
    "We can automate a Python script to send WhatsApp messages. In this article, we will learn the easiest ways using pywhatkit module that the website web.whatsapp.com uses to automate the sending of messages to any WhatsApp number.\n",
    "\n",
    "# Installing pywhatkit module:\n",
    "pywhatkit is a python module for sending Whatsapp messages at a certain time. To install the pywhatkit module, Type the following command in your IDE/Compiler:"
   ]
  },
  {
   "cell_type": "raw",
   "id": "9f91ccef",
   "metadata": {},
   "source": [
    "pip install --trusted-host pypi.org --trusted-host pypi.python.org --trusted-host files.pythonhosted.org pip pywhatkit"
   ]
  },
  {
   "cell_type": "markdown",
   "id": "18a54c7a",
   "metadata": {},
   "source": [
    "# Introduction to pywhatkit module\n",
    "\n",
    "Python offers numerous inbuilt libraries to ease our work. Among them pywhatkit is a Python library for sending WhatsApp messages at a certain time, it has several other features too.\n",
    "\n",
    "Following are some features of pywhatkit module:\n",
    "1. Send WhatsApp messages.\n",
    "2. Play a YouTube video.\n",
    "3. Perform a Google Search.\n",
    "\n",
    "The pywhatkit module can also be used for converting text into handwritten text images. \n",
    "\n",
    "# In Python3 pywhatkit module will not come pre-installed, so you can install it by using the command:\n",
    "\n",
    "pip install pywhatkit\n",
    "\n",
    "1. Send Whatsapp Messages: \n",
    "Here, we will learn the simplest way of using pywhatkit module which utilises the WhatsApp webpage to automate messages sending to any number on WhatsApp. But make sure that you have logged into your WhatsApp in your browser.\n",
    "\n",
    "Syntax: pywhatkit.sendmsg(“receiver mobile number”,”message”,hours,minutes)\n",
    "\n",
    "Parameters:\n",
    "\n",
    "Receiver mobile number: The Receiver’s mobile number must be in string format and the country code must be mentioned before the mobile number.\n",
    "Message: Message to be sent(Must be in string format).\n",
    "Hours: This module follows the 24 hrs time format.\n",
    "Minutes: Mention minutes of the scheduled time for the message(00-59)."
   ]
  },
  {
   "cell_type": "markdown",
   "id": "bf1124d9",
   "metadata": {},
   "source": [
    "# Using pywhatkit module:\n",
    "To use this python library to send messages automatically on WhatsApp at certain times, we need a chrome browser and you must have your WhatsApp logged into the web.whatsapp.com website.\n",
    "\n",
    "If you do not have a chrome browser, then you can follow the following steps:\n",
    "\n",
    "1. Download and extract the current stable release of chrome driver from here(https://chromedriver.chromium.org/).\n",
    "\n",
    "2. Open the downloaded file and search for an application named chrome drive, copy its path, for windows, it should look like this – C:/Users/…/chromedriver.exe.\n",
    "3. Then call the function pywhatkit.add_driver_path(path) and pass the copied path as an argument, if the path is valid, a black window along with chrome will open and close.\n",
    "4. Next call the function pywhatkit.load_QRcode() and scan the QR code.\n",
    "\n",
    "Below is the implementation:"
   ]
  },
  {
   "cell_type": "code",
   "execution_count": null,
   "id": "b437a421",
   "metadata": {},
   "outputs": [],
   "source": [
    "# importing the module\n",
    "import pywhatkit\n",
    "\n",
    "# using Exception Handling to avoid \n",
    "# unprecedented errors\n",
    "try:\n",
    "\n",
    "# sending message to receiver\n",
    "# using pywhatkit\n",
    "pywhatkit.sendwhatmsg(\"+919899588774\",\n",
    "                      Hello from Monika\",\n",
    "                      16, 30)\n",
    "print(\"Successfully Sent!\")\n",
    "\n",
    "except:\n",
    "\n",
    "# handling exception \n",
    "# and printing error message\n",
    "print(\"An Unexpected Error!\")\n"
   ]
  },
  {
   "cell_type": "code",
   "execution_count": null,
   "id": "51a7df19",
   "metadata": {},
   "outputs": [],
   "source": [
    "import pywhatkit\n",
    "\n",
    "\n",
    "pywhatkit.sendwhatmsg(\"+919xxxxxxxxx\", \n",
    "\t\t\t\t\t\"Monika Arora!\", \n",
    "\t\t\t\t\t18, 30)\n"
   ]
  },
  {
   "cell_type": "markdown",
   "id": "0179299f",
   "metadata": {},
   "source": [
    "# Explanation:\n",
    "In the above script, we have specified the recipient phone number on which we want to send the message, then the message to be sent, and then the time at which the message has to be sent. This function follows the 24 hrs time format, hence the time 18:30 is 06:30 PM.\n",
    "\n",
    "Also, you should provide atleast 2-3 minutes future time from the current time while running the script, because if you will set the time 1-2 minutes from the current time, then the module will give an error.\n",
    "\n",
    "Before running the script make sure you are logged in to WhatsApp web in google chrome. To login into WhatsApp web go to this link and scan the QR Code using the mobile phone in which you are using WhatsApp.\n",
    "\n",
    "\n",
    "Now just run the final script to send a WhatsApp message. After running the script, It will let you know that after how many seconds your WhatsApp going to open and what particular time your message would be sent. After that many seconds, this script will automatically open WhatsApp and it will send the message to the specified recipient.\n",
    "\n",
    "For example, \n",
    "\n",
    "In 51 seconds web.whatsapp.com will open and after 20 seconds message will be delivered\n",
    "\n",
    "Some Error Messages You May Encounter during Execution:\n",
    "1. While installing the Pywhatkit module, you may encounter this error message:\n",
    "\n",
    "“The headers or library files could not be found for zlib, a required dependency when compiling Pillow from source.”\n",
    "\n",
    "Solution: Upgrade pip and pillow. Run the codes below separately:\n",
    "\n",
    "2. Specify the minutes’ argument by starting with 0. For instance 6:08 PM as 18, 08. You will get a syntax error:\n",
    "\n",
    "“SyntaxError: leading zeros in decimal integer literals are not permitted; use an 0o prefix for octal integers.”\n",
    "\n",
    "Solution: Start your minutes’ argument with a number other than 0.\n",
    "\n",
    "3. If the recipient phone number you want to send a message to doesn’t have a country code. You will get this error:\n",
    "\n",
    "“CountryCodeException(“Country code missing from phone no”)”\n",
    "\n",
    "“pywhatkit.mainfunctions.CountryCodeException: Country code missing from phone no”\n",
    "\n",
    "Solution:  Include the country code for every phone number. For example, +234, +44, +1.\n",
    "\n",
    "4. When you have slow internet, your message will not be sent. You will get this error message:\n",
    "\n",
    "“raise Warning(“INTERNET IS SLOW, extraction of information might take longer time”)”\n",
    "\n",
    "“Warning: INTERNET IS SLOW, extraction of information might take longer time”\n",
    "\n",
    "Solution:  Use a strong internet connection."
   ]
  },
  {
   "cell_type": "markdown",
   "id": "1844bef1",
   "metadata": {},
   "source": [
    "# 2. Play a YouTube video: \n",
    "Function pywhatkit.playonyt(), opens the YouTube in your default browser and plays the video you mentioned in the function. If you pass the topic name as parameter, it plays the random video on that topic. On passing the URL of the video as the parameter, it open that exact video.\n",
    "\n",
    "Syntax: pywhatkit.playonyt(“url/topic name”)\n",
    "\n",
    "Parameters: \n",
    "\n",
    "URL/Topic Name: Mention the topic name or URL of the YouTube video\n"
   ]
  },
  {
   "cell_type": "code",
   "execution_count": null,
   "id": "08619d5f",
   "metadata": {},
   "outputs": [],
   "source": [
    "# importing the module\n",
    "import pywhatkit\n",
    "\n",
    "# using Exception Handling\n",
    "# to avoid exceptions\n",
    "try:\n",
    "\n",
    "# it plays a random YouTube\n",
    "# video of GeeksforGeeks\n",
    "pywhatkit.playonyt(\"GeeksforGeeks\")\n",
    "print(\"Playing...\")\n",
    "\n",
    "except:\n",
    "\n",
    "# printing the error message\n",
    "print(\"Network Error Occurred\")\n"
   ]
  },
  {
   "cell_type": "markdown",
   "id": "74f16377",
   "metadata": {},
   "source": [
    "# 3. Perform Google Search: \n",
    "You can perform a Google search using the following simple command. It opens your browser and searches for the topic you have given in your code.\n",
    "\n",
    "Syntax: pywhatkit.search(“Keyword”)\n",
    "\n",
    "Parameters: \n",
    "\n",
    "Keyword: It open your browser and performs search operation.\n",
    "Example: "
   ]
  },
  {
   "cell_type": "code",
   "execution_count": null,
   "id": "e4d684b3",
   "metadata": {},
   "outputs": [],
   "source": [
    "# importing the module\n",
    "import pywhatkit\n",
    "\n",
    "# use Try Except to\n",
    "# handle the Exceptions\n",
    "try:\n",
    "\n",
    "# it will perform the Google search\n",
    "pywhatkit.search(\"Monika Arora Journal of Food Engineering Low cost Imaging research article\")\n",
    "print(\"Searching...\")\n",
    "\n",
    "except:\n",
    "\n",
    "# Printing Error Message\n",
    "print(\"An unknown error occurred\")\n"
   ]
  },
  {
   "cell_type": "markdown",
   "id": "bac43288",
   "metadata": {},
   "source": [
    "# 4. Get information on  particular topic: \n",
    "We can get brief information on a particular topic. We can also limit the number of lines to be printed. Also, make sure that you are searching for the topics that are available on Wikipedia.\n",
    "\n",
    "Syntax: pywhatkit.info(“topic”,lines=x)\n",
    "\n",
    "Parameters: \n",
    "\n",
    "Topic: Gives the output on the topic mentioned.\n",
    "lines: It prints the searched topic in the specified number of lines.\n",
    "Example:"
   ]
  },
  {
   "cell_type": "code",
   "execution_count": null,
   "id": "ac993ac9",
   "metadata": {},
   "outputs": [],
   "source": [
    "# importing the module\n",
    "import pywhatkit\n",
    "\n",
    "# using Exception Handling for\n",
    "# handling unprecedented errors\n",
    "try:\n",
    "\n",
    "# it will perform google search\n",
    "pywhatkit.info(\"Google\", lines = 4)\n",
    "print(\"\\nSuccessfully Searched\")\n",
    "\n",
    "except:\n",
    "\t\n",
    "# printing error message\n",
    "print(\"An Unknown Error Occurred\")\n"
   ]
  }
 ],
 "metadata": {
  "kernelspec": {
   "display_name": "Python 3 (ipykernel)",
   "language": "python",
   "name": "python3"
  },
  "language_info": {
   "codemirror_mode": {
    "name": "ipython",
    "version": 3
   },
   "file_extension": ".py",
   "mimetype": "text/x-python",
   "name": "python",
   "nbconvert_exporter": "python",
   "pygments_lexer": "ipython3",
   "version": "3.9.13"
  }
 },
 "nbformat": 4,
 "nbformat_minor": 5
}

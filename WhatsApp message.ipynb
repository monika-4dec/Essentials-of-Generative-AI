{
 "cells": [
  {
   "cell_type": "markdown",
   "id": "df089bd4",
   "metadata": {},
   "source": [
    "# Automate WhatsApp Messages With Python using Pywhatkit module\n",
    "\n",
    "Practice\n",
    "We can automate a Python script to send WhatsApp messages. In this article, we will learn the easiest ways using pywhatkit module that the website web.whatsapp.com uses to automate the sending of messages to any WhatsApp number.\n",
    "\n",
    "# Installing pywhatkit module:\n",
    "pywhatkit is a python module for sending Whatsapp messages at a certain time. To install the pywhatkit module, Type the following command in your IDE/Compiler:"
   ]
  },
  {
   "cell_type": "raw",
   "id": "7ddc8184",
   "metadata": {},
   "source": [
    "pip install --trusted-host pypi.org --trusted-host pypi.python.org --trusted-host files.pythonhosted.org pip pywhatkit"
   ]
  },
  {
   "cell_type": "markdown",
   "id": "4b6457d4",
   "metadata": {},
   "source": [
    "# Using pywhatkit module:\n",
    "To use this python library to send messages automatically on WhatsApp at certain times, we need a chrome browser and you must have your WhatsApp logged into the web.whatsapp.com website.\n",
    "\n",
    "If you do not have a chrome browser, then you can follow the following steps:\n",
    "\n",
    "1. Download and extract the current stable release of chrome driver from here(https://chromedriver.chromium.org/).\n",
    "\n",
    "2. Open the downloaded file and search for an application named chrome drive, copy its path, for windows, it should look like this – C:/Users/…/chromedriver.exe.\n",
    "3. Then call the function pywhatkit.add_driver_path(path) and pass the copied path as an argument, if the path is valid, a black window along with chrome will open and close.\n",
    "4. Next call the function pywhatkit.load_QRcode() and scan the QR code.\n",
    "\n",
    "Below is the implementation:"
   ]
  },
  {
   "cell_type": "code",
   "execution_count": null,
   "id": "847d80e0",
   "metadata": {},
   "outputs": [],
   "source": [
    "import pywhatkit\n",
    "\n",
    "\n",
    "pywhatkit.sendwhatmsg(\"+919xxxxxxxxx\", \n",
    "\t\t\t\t\t\"Geeks For Geeks!\", \n",
    "\t\t\t\t\t18, 30)\n"
   ]
  },
  {
   "cell_type": "markdown",
   "id": "f1ac12ce",
   "metadata": {},
   "source": [
    "# Explanation:\n",
    "In the above script, we have specified the recipient phone number on which we want to send the message, then the message to be sent, and then the time at which the message has to be sent. This function follows the 24 hrs time format, hence the time 18:30 is 06:30 PM.\n",
    "\n",
    "Also, you should provide atleast 2-3 minutes future time from the current time while running the script, because if you will set the time 1-2 minutes from the current time, then the module will give an error.\n",
    "\n",
    "Before running the script make sure you are logged in to WhatsApp web in google chrome. To login into WhatsApp web go to this link and scan the QR Code using the mobile phone in which you are using WhatsApp.\n",
    "\n",
    "\n",
    "Now just run the final script to send a WhatsApp message. After running the script, It will let you know that after how many seconds your WhatsApp going to open and what particular time your message would be sent. After that many seconds, this script will automatically open WhatsApp and it will send the message to the specified recipient.\n",
    "\n",
    "For example, \n",
    "\n",
    "In 51 seconds web.whatsapp.com will open and after 20 seconds message will be delivered\n",
    "\n",
    "Some Error Messages You May Encounter during Execution:\n",
    "1. While installing the Pywhatkit module, you may encounter this error message:\n",
    "\n",
    "“The headers or library files could not be found for zlib, a required dependency when compiling Pillow from source.”\n",
    "\n",
    "Solution: Upgrade pip and pillow. Run the codes below separately:\n",
    "\n",
    "2. Specify the minutes’ argument by starting with 0. For instance 6:08 PM as 18, 08. You will get a syntax error:\n",
    "\n",
    "“SyntaxError: leading zeros in decimal integer literals are not permitted; use an 0o prefix for octal integers.”\n",
    "\n",
    "Solution: Start your minutes’ argument with a number other than 0.\n",
    "\n",
    "3. If the recipient phone number you want to send a message to doesn’t have a country code. You will get this error:\n",
    "\n",
    "“CountryCodeException(“Country code missing from phone no”)”\n",
    "\n",
    "“pywhatkit.mainfunctions.CountryCodeException: Country code missing from phone no”\n",
    "\n",
    "Solution:  Include the country code for every phone number. For example, +234, +44, +1.\n",
    "\n",
    "4. When you have slow internet, your message will not be sent. You will get this error message:\n",
    "\n",
    "“raise Warning(“INTERNET IS SLOW, extraction of information might take longer time”)”\n",
    "\n",
    "“Warning: INTERNET IS SLOW, extraction of information might take longer time”\n",
    "\n",
    "Solution:  Use a strong internet connection."
   ]
  },
  {
   "cell_type": "code",
   "execution_count": null,
   "id": "e714e48a",
   "metadata": {},
   "outputs": [],
   "source": []
  }
 ],
 "metadata": {
  "kernelspec": {
   "display_name": "Python 3 (ipykernel)",
   "language": "python",
   "name": "python3"
  },
  "language_info": {
   "codemirror_mode": {
    "name": "ipython",
    "version": 3
   },
   "file_extension": ".py",
   "mimetype": "text/x-python",
   "name": "python",
   "nbconvert_exporter": "python",
   "pygments_lexer": "ipython3",
   "version": "3.9.13"
  }
 },
 "nbformat": 4,
 "nbformat_minor": 5
}
